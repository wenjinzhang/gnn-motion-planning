{
 "cells": [
  {
   "cell_type": "code",
   "execution_count": null,
   "id": "3d0f9ffe",
   "metadata": {},
   "outputs": [],
   "source": [
    "import pickle\n",
    "\n",
    "# open a file, where you stored the pickled data\n",
    "file = open('./data/pkl/maze_prm.pkl', 'rb')\n",
    "# dump information to that file\n",
    "data = pickle.load(file)\n",
    "\n",
    "# close the file\n",
    "file.close()"
   ]
  },
  {
   "cell_type": "code",
   "execution_count": null,
   "id": "13eb276a",
   "metadata": {},
   "outputs": [],
   "source": [
    "# print(data[0])\n",
    "print(len(data[0]))\n",
    "\n",
    "for t in data[0]:\n",
    "    print(t)"
   ]
  },
  {
   "cell_type": "markdown",
   "id": "3ece30ba-ae24-4063-b8c2-6b9330c4ca20",
   "metadata": {},
   "source": [
    "# Basic Usage"
   ]
  },
  {
   "cell_type": "markdown",
   "id": "45678be0-6b31-4c6c-9ab4-ed7ad2761123",
   "metadata": {},
   "source": [
    "## Evaluation"
   ]
  },
  {
   "cell_type": "code",
   "execution_count": 1,
   "id": "53185bf1-6501-4f3a-a051-bb3608da0754",
   "metadata": {},
   "outputs": [
    {
     "name": "stderr",
     "output_type": "stream",
     "text": [
      "/home/wenjin/anaconda3/envs/gnnmp/lib/python3.8/site-packages/tqdm/auto.py:22: TqdmWarning: IProgress not found. Please update jupyter and ipywidgets. See https://ipywidgets.readthedocs.io/en/stable/user_install.html\n",
      "  from .autonotebook import tqdm as notebook_tqdm\n",
      "pybullet build time: May 20 2022 19:44:17\n"
     ]
    }
   ],
   "source": [
    "from eval_gnn import eval_gnn\n",
    "from str2env import str2env"
   ]
  },
  {
   "cell_type": "code",
   "execution_count": null,
   "id": "dc2236d9-7fe9-40d6-bda7-e10e803ff792",
   "metadata": {},
   "outputs": [],
   "source": [
    "# evaluation on the test cases\n",
    "env, indexes = str2env('maze2easy')  # choose env among ('maze2easy', 'maze2hard', 'kuka7', 'ur5', 'snake7', 'kuka13', 'kuka14')\n",
    "# evaluation with GNN\n",
    "_ = eval_gnn(str(env), 1234, env=env, indexes=indexes, smooth=True, use_tqdm=True)"
   ]
  },
  {
   "cell_type": "markdown",
   "id": "2387fd14-4744-495b-9767-c975a056e0e2",
   "metadata": {
    "tags": []
   },
   "source": [
    "# Advanced"
   ]
  },
  {
   "cell_type": "markdown",
   "id": "05521eff-ed8e-45da-9f97-2a74dd640f25",
   "metadata": {},
   "source": [
    "## Generate New Dataset"
   ]
  },
  {
   "cell_type": "code",
   "execution_count": 6,
   "id": "f7e37378-4598-4334-877d-6633d1061ae1",
   "metadata": {},
   "outputs": [
    {
     "name": "stderr",
     "output_type": "stream",
     "text": [
      "len of new data: 0:   0%|          | 2/10000000 [00:00<34:31:14, 80.47it/s]\n"
     ]
    }
   ],
   "source": [
    "from diversify_maze import find_mazes, INFINITY\n",
    "import numpy as np\n",
    "# generate 1000 test cases\n",
    "maps, init_states, goal_states = find_mazes(10, density=[100, 150], dist2goal_threshold=1)\n",
    "np.savez('maze_files/mazes_new_dataset.npz', maps=maps, goal_states=goal_states, init_states=init_states)"
   ]
  },
  {
   "cell_type": "markdown",
   "id": "4927f646-9be8-4b59-99b3-a044aeaf2902",
   "metadata": {},
   "source": [
    "## Test on New Environment"
   ]
  },
  {
   "cell_type": "markdown",
   "id": "5f7b5dbc",
   "metadata": {},
   "source": [
    "Load new environment and library"
   ]
  },
  {
   "cell_type": "code",
   "execution_count": 7,
   "id": "a46c3921",
   "metadata": {},
   "outputs": [],
   "source": [
    "from tqdm import tqdm\n",
    "from config import set_random_seed\n",
    "from str2name import str2name\n",
    "import torch\n",
    "from eval_gnn import explore\n",
    "from environment import MazeEnv\n",
    "env = MazeEnv(dim=2, map_file='maze_files/mazes_new_dataset.npz')\n",
    "indexes = range(0, 10)\n",
    "bs = 100  # only sample 100 points\n",
    "results = []"
   ]
  },
  {
   "cell_type": "markdown",
   "id": "dcae192f",
   "metadata": {},
   "source": [
    "load model"
   ]
  },
  {
   "cell_type": "code",
   "execution_count": 8,
   "id": "a778b8cc",
   "metadata": {},
   "outputs": [
    {
     "ename": "AttributeError",
     "evalue": "'MPNN' object has no attribute 'channels'",
     "output_type": "error",
     "traceback": [
      "\u001b[0;31m---------------------------------------------------------------------------\u001b[0m",
      "\u001b[0;31mAttributeError\u001b[0m                            Traceback (most recent call last)",
      "File \u001b[0;32m~/anaconda3/envs/gnnmp/lib/python3.8/site-packages/IPython/core/formatters.py:706\u001b[0m, in \u001b[0;36mPlainTextFormatter.__call__\u001b[0;34m(self, obj)\u001b[0m\n\u001b[1;32m    699\u001b[0m stream \u001b[39m=\u001b[39m StringIO()\n\u001b[1;32m    700\u001b[0m printer \u001b[39m=\u001b[39m pretty\u001b[39m.\u001b[39mRepresentationPrinter(stream, \u001b[39mself\u001b[39m\u001b[39m.\u001b[39mverbose,\n\u001b[1;32m    701\u001b[0m     \u001b[39mself\u001b[39m\u001b[39m.\u001b[39mmax_width, \u001b[39mself\u001b[39m\u001b[39m.\u001b[39mnewline,\n\u001b[1;32m    702\u001b[0m     max_seq_length\u001b[39m=\u001b[39m\u001b[39mself\u001b[39m\u001b[39m.\u001b[39mmax_seq_length,\n\u001b[1;32m    703\u001b[0m     singleton_pprinters\u001b[39m=\u001b[39m\u001b[39mself\u001b[39m\u001b[39m.\u001b[39msingleton_printers,\n\u001b[1;32m    704\u001b[0m     type_pprinters\u001b[39m=\u001b[39m\u001b[39mself\u001b[39m\u001b[39m.\u001b[39mtype_printers,\n\u001b[1;32m    705\u001b[0m     deferred_pprinters\u001b[39m=\u001b[39m\u001b[39mself\u001b[39m\u001b[39m.\u001b[39mdeferred_printers)\n\u001b[0;32m--> 706\u001b[0m printer\u001b[39m.\u001b[39;49mpretty(obj)\n\u001b[1;32m    707\u001b[0m printer\u001b[39m.\u001b[39mflush()\n\u001b[1;32m    708\u001b[0m \u001b[39mreturn\u001b[39;00m stream\u001b[39m.\u001b[39mgetvalue()\n",
      "File \u001b[0;32m~/anaconda3/envs/gnnmp/lib/python3.8/site-packages/IPython/lib/pretty.py:410\u001b[0m, in \u001b[0;36mRepresentationPrinter.pretty\u001b[0;34m(self, obj)\u001b[0m\n\u001b[1;32m    407\u001b[0m                         \u001b[39mreturn\u001b[39;00m meth(obj, \u001b[39mself\u001b[39m, cycle)\n\u001b[1;32m    408\u001b[0m                 \u001b[39mif\u001b[39;00m \u001b[39mcls\u001b[39m \u001b[39mis\u001b[39;00m \u001b[39mnot\u001b[39;00m \u001b[39mobject\u001b[39m \\\n\u001b[1;32m    409\u001b[0m                         \u001b[39mand\u001b[39;00m callable(\u001b[39mcls\u001b[39m\u001b[39m.\u001b[39m\u001b[39m__dict__\u001b[39m\u001b[39m.\u001b[39mget(\u001b[39m'\u001b[39m\u001b[39m__repr__\u001b[39m\u001b[39m'\u001b[39m)):\n\u001b[0;32m--> 410\u001b[0m                     \u001b[39mreturn\u001b[39;00m _repr_pprint(obj, \u001b[39mself\u001b[39;49m, cycle)\n\u001b[1;32m    412\u001b[0m     \u001b[39mreturn\u001b[39;00m _default_pprint(obj, \u001b[39mself\u001b[39m, cycle)\n\u001b[1;32m    413\u001b[0m \u001b[39mfinally\u001b[39;00m:\n",
      "File \u001b[0;32m~/anaconda3/envs/gnnmp/lib/python3.8/site-packages/IPython/lib/pretty.py:778\u001b[0m, in \u001b[0;36m_repr_pprint\u001b[0;34m(obj, p, cycle)\u001b[0m\n\u001b[1;32m    776\u001b[0m \u001b[39m\"\"\"A pprint that just redirects to the normal repr function.\"\"\"\u001b[39;00m\n\u001b[1;32m    777\u001b[0m \u001b[39m# Find newlines and replace them with p.break_()\u001b[39;00m\n\u001b[0;32m--> 778\u001b[0m output \u001b[39m=\u001b[39m \u001b[39mrepr\u001b[39;49m(obj)\n\u001b[1;32m    779\u001b[0m lines \u001b[39m=\u001b[39m output\u001b[39m.\u001b[39msplitlines()\n\u001b[1;32m    780\u001b[0m \u001b[39mwith\u001b[39;00m p\u001b[39m.\u001b[39mgroup():\n",
      "File \u001b[0;32m~/anaconda3/envs/gnnmp/lib/python3.8/site-packages/torch/nn/modules/module.py:1935\u001b[0m, in \u001b[0;36mModule.__repr__\u001b[0;34m(self)\u001b[0m\n\u001b[1;32m   1933\u001b[0m child_lines \u001b[39m=\u001b[39m []\n\u001b[1;32m   1934\u001b[0m \u001b[39mfor\u001b[39;00m key, module \u001b[39min\u001b[39;00m \u001b[39mself\u001b[39m\u001b[39m.\u001b[39m_modules\u001b[39m.\u001b[39mitems():\n\u001b[0;32m-> 1935\u001b[0m     mod_str \u001b[39m=\u001b[39m \u001b[39mrepr\u001b[39;49m(module)\n\u001b[1;32m   1936\u001b[0m     mod_str \u001b[39m=\u001b[39m _addindent(mod_str, \u001b[39m2\u001b[39m)\n\u001b[1;32m   1937\u001b[0m     child_lines\u001b[39m.\u001b[39mappend(\u001b[39m'\u001b[39m\u001b[39m(\u001b[39m\u001b[39m'\u001b[39m \u001b[39m+\u001b[39m key \u001b[39m+\u001b[39m \u001b[39m'\u001b[39m\u001b[39m): \u001b[39m\u001b[39m'\u001b[39m \u001b[39m+\u001b[39m mod_str)\n",
      "File \u001b[0;32m~/dev/gnn-motion-planning/model_smoother.py:42\u001b[0m, in \u001b[0;36mMPNN.__repr__\u001b[0;34m(self)\u001b[0m\n\u001b[1;32m     41\u001b[0m \u001b[39mdef\u001b[39;00m \u001b[39m__repr__\u001b[39m(\u001b[39mself\u001b[39m):\n\u001b[0;32m---> 42\u001b[0m     \u001b[39mreturn\u001b[39;00m \u001b[39m'\u001b[39m\u001b[39m{}\u001b[39;00m\u001b[39m(\u001b[39m\u001b[39m{}\u001b[39;00m\u001b[39m, dim=\u001b[39m\u001b[39m{}\u001b[39;00m\u001b[39m)\u001b[39m\u001b[39m'\u001b[39m\u001b[39m.\u001b[39mformat(\u001b[39mself\u001b[39m\u001b[39m.\u001b[39m\u001b[39m__class__\u001b[39m\u001b[39m.\u001b[39m\u001b[39m__name__\u001b[39m, \u001b[39mself\u001b[39;49m\u001b[39m.\u001b[39;49mchannels,\n\u001b[1;32m     43\u001b[0m                                    \u001b[39mself\u001b[39m\u001b[39m.\u001b[39mdim)\n",
      "File \u001b[0;32m~/anaconda3/envs/gnnmp/lib/python3.8/site-packages/torch/nn/modules/module.py:1207\u001b[0m, in \u001b[0;36mModule.__getattr__\u001b[0;34m(self, name)\u001b[0m\n\u001b[1;32m   1205\u001b[0m     \u001b[39mif\u001b[39;00m name \u001b[39min\u001b[39;00m modules:\n\u001b[1;32m   1206\u001b[0m         \u001b[39mreturn\u001b[39;00m modules[name]\n\u001b[0;32m-> 1207\u001b[0m \u001b[39mraise\u001b[39;00m \u001b[39mAttributeError\u001b[39;00m(\u001b[39m\"\u001b[39m\u001b[39m'\u001b[39m\u001b[39m{}\u001b[39;00m\u001b[39m'\u001b[39m\u001b[39m object has no attribute \u001b[39m\u001b[39m'\u001b[39m\u001b[39m{}\u001b[39;00m\u001b[39m'\u001b[39m\u001b[39m\"\u001b[39m\u001b[39m.\u001b[39mformat(\n\u001b[1;32m   1208\u001b[0m     \u001b[39mtype\u001b[39m(\u001b[39mself\u001b[39m)\u001b[39m.\u001b[39m\u001b[39m__name__\u001b[39m, name))\n",
      "\u001b[0;31mAttributeError\u001b[0m: 'MPNN' object has no attribute 'channels'"
     ]
    }
   ],
   "source": [
    "_, model, model_path, model_s, model_s_path = str2name(str(env))\n",
    "model.load_state_dict(torch.load(model_path, map_location=torch.device(\"cpu\")))\n",
    "model_s.load_state_dict(torch.load(model_s_path, map_location=torch.device(\"cpu\")))\n",
    "model.eval()\n",
    "model_s.eval()"
   ]
  },
  {
   "cell_type": "code",
   "execution_count": null,
   "id": "56902222-0999-415a-9976-72ad8442defa",
   "metadata": {},
   "outputs": [],
   "source": [
    "\n",
    "\n",
    "for i in tqdm(range(1000)):\n",
    "    \n",
    "    env.init_new_problem(i)\n",
    "    set_random_seed(1234)\n",
    "    _, model, model_path, model_s, model_s_path = str2name(str(env))\n",
    "    result = explore(env, model, model_s, smooth=True, smoother='none', batch=bs, t_max=bs, k=10) \n",
    "    \n",
    "    results.append(result)"
   ]
  },
  {
   "cell_type": "code",
   "execution_count": null,
   "id": "dc566b02-f162-4104-afdc-9c5cb2ca1fee",
   "metadata": {},
   "outputs": [],
   "source": [
    "# get the collision numbers\n",
    "c_explores = [r['c_explore'] for r in results]"
   ]
  },
  {
   "cell_type": "code",
   "execution_count": null,
   "id": "bfba8c33",
   "metadata": {},
   "outputs": [],
   "source": [
    "print(results[555])"
   ]
  },
  {
   "cell_type": "code",
   "execution_count": null,
   "id": "85e6f7f9-7645-47d5-8666-d484986279bd",
   "metadata": {
    "tags": []
   },
   "outputs": [],
   "source": [
    "%matplotlib inline\n",
    "import matplotlib.pyplot as plt\n",
    "from utils.plot import plot_edges, plot_env_only\n",
    "i = np.argmin(c_explores)\n",
    "print(i)\n",
    "env.init_new_problem(i)\n",
    "edges = results[i]['data'].v[np.array(results[i]['explored_edges']).reshape(-1)].reshape(-1, 2, 2)\n",
    "\n",
    "edges = [[tuple(k), tuple(v)] for k, v in zip(edges[:, 0, :].cpu().numpy(), edges[:, 1, :].cpu().numpy())]\n",
    "plot_edges(results[i]['path'], edges, env.get_problem(), \\\n",
    "           title='{0:d} collision checks'.format(results[i]['c_explore']), \\\n",
    "           save=None)\n",
    "plt.show()"
   ]
  },
  {
   "cell_type": "code",
   "execution_count": 12,
   "id": "600d608d",
   "metadata": {},
   "outputs": [
    {
     "data": {
      "text/plain": [
       "{'map': array([[1., 1., 1., 1., 1., 1., 1., 1., 1., 1., 1., 1., 1., 1., 1.],\n",
       "        [1., 0., 0., 0., 0., 0., 0., 0., 0., 0., 0., 0., 0., 0., 1.],\n",
       "        [1., 0., 0., 1., 1., 1., 1., 1., 0., 1., 1., 1., 1., 0., 1.],\n",
       "        [1., 0., 0., 0., 0., 0., 0., 0., 0., 0., 0., 0., 0., 0., 1.],\n",
       "        [1., 1., 1., 1., 1., 1., 0., 0., 1., 1., 1., 1., 1., 0., 1.],\n",
       "        [1., 0., 0., 0., 0., 0., 0., 0., 0., 0., 0., 0., 1., 0., 1.],\n",
       "        [1., 1., 0., 1., 1., 0., 1., 1., 0., 1., 1., 0., 0., 0., 1.],\n",
       "        [1., 0., 0., 0., 0., 0., 0., 0., 0., 0., 0., 0., 1., 0., 1.],\n",
       "        [1., 0., 1., 1., 1., 0., 1., 0., 0., 0., 0., 0., 1., 0., 1.],\n",
       "        [1., 0., 0., 0., 1., 0., 0., 0., 0., 0., 1., 0., 0., 0., 1.],\n",
       "        [1., 0., 0., 0., 1., 1., 0., 0., 0., 0., 0., 0., 1., 1., 1.],\n",
       "        [1., 0., 1., 0., 0., 0., 1., 0., 0., 0., 1., 0., 0., 0., 1.],\n",
       "        [1., 0., 1., 0., 0., 0., 1., 0., 1., 1., 1., 1., 1., 0., 1.],\n",
       "        [1., 0., 0., 0., 1., 0., 0., 0., 0., 0., 0., 0., 0., 0., 1.],\n",
       "        [1., 1., 1., 1., 1., 1., 1., 1., 1., 1., 1., 1., 1., 1., 1.]]),\n",
       " 'init_state': array([-0.85735603,  0.57040995]),\n",
       " 'goal_state': array([-0.22299576, -0.28646506])}"
      ]
     },
     "execution_count": 12,
     "metadata": {},
     "output_type": "execute_result"
    }
   ],
   "source": [
    "env, indexes = str2env('maze2easy')\n",
    "env.init_new_problem()"
   ]
  },
  {
   "cell_type": "code",
   "execution_count": 19,
   "id": "ee8aa363",
   "metadata": {},
   "outputs": [
    {
     "data": {
      "text/plain": [
       "<Figure size 640x480 with 0 Axes>"
      ]
     },
     "metadata": {},
     "output_type": "display_data"
    },
    {
     "data": {
      "image/png": "[encoded data removed]",
      "text/plain": [
       "<Figure size 400x400 with 1 Axes>"
      ]
     },
     "metadata": {},
     "output_type": "display_data"
    }
   ],
   "source": [
    "%matplotlib inline\n",
    "import matplotlib.pyplot as plt\n",
    "from utils.plot import plot_edges, plot_env_only\n",
    "plot_env_only(env.get_problem(), save=None)\n",
    "plt.show()"
   ]
  },
  {
   "cell_type": "code",
   "execution_count": 20,
   "id": "2fad24e8",
   "metadata": {},
   "outputs": [
    {
     "name": "stdout",
     "output_type": "stream",
     "text": [
      "[[1. 1. 1. 1. 1. 1. 1. 1. 1. 1. 1. 1. 1. 1. 1.]\n",
      " [1. 0. 0. 0. 1. 0. 1. 0. 0. 0. 0. 0. 0. 0. 1.]\n",
      " [1. 0. 0. 0. 1. 0. 0. 0. 1. 0. 0. 1. 1. 0. 1.]\n",
      " [1. 0. 1. 0. 1. 0. 1. 0. 1. 0. 0. 0. 0. 0. 1.]\n",
      " [1. 0. 1. 0. 1. 0. 1. 0. 1. 1. 1. 0. 0. 1. 1.]\n",
      " [1. 0. 1. 0. 1. 0. 0. 0. 0. 0. 1. 0. 0. 0. 1.]\n",
      " [1. 0. 1. 0. 0. 0. 1. 0. 1. 0. 0. 1. 1. 0. 1.]\n",
      " [1. 0. 1. 0. 0. 0. 1. 0. 0. 0. 0. 0. 0. 0. 1.]\n",
      " [1. 0. 0. 0. 1. 0. 0. 0. 0. 0. 0. 0. 1. 0. 1.]\n",
      " [1. 0. 1. 0. 1. 0. 1. 0. 0. 0. 0. 0. 1. 0. 1.]\n",
      " [1. 0. 1. 0. 1. 0. 1. 0. 0. 1. 0. 1. 1. 0. 1.]\n",
      " [1. 0. 1. 0. 1. 0. 0. 0. 0. 0. 0. 0. 1. 0. 1.]\n",
      " [1. 0. 1. 0. 1. 1. 0. 1. 1. 0. 1. 0. 1. 0. 1.]\n",
      " [1. 0. 0. 0. 0. 0. 0. 0. 0. 0. 1. 0. 0. 0. 1.]\n",
      " [1. 1. 1. 1. 1. 1. 1. 1. 1. 1. 1. 1. 1. 1. 1.]]\n",
      "<class 'numpy.ndarray'>\n"
     ]
    }
   ],
   "source": [
    "problem = env.get_problem()\n",
    "environment_map = problem[\"map\"]\n",
    "import numpy as np\n",
    "print(np.transpose(environment_map))\n",
    "# print(np.transpose(environment_map))\n",
    "print(type(environment_map))\n"
   ]
  },
  {
   "cell_type": "code",
   "execution_count": null,
   "id": "84434644-2622-49da-a309-381717300320",
   "metadata": {},
   "outputs": [],
   "source": [
    "i = np.argmax(c_explores)\n",
    "env.init_new_problem(i)\n",
    "edges = results[i]['data'].v[np.array(results[i]['explored_edges']).reshape(-1)].reshape(-1, 2, 2)\n",
    "edges = [[tuple(k), tuple(v)] for k, v in zip(edges[:, 0, :].cpu().numpy(), edges[:, 1, :].cpu().numpy())]\n",
    "plot_edges(results[i]['path'], edges, env.get_problem(), \\\n",
    "           title='{0:d} collision checks'.format(results[i]['c_explore']), \\\n",
    "           save=None)\n",
    "plt.show()"
   ]
  }
 ],
 "metadata": {
  "kernelspec": {
   "display_name": "Python 3.8.13 ('gnnmp')",
   "language": "python",
   "name": "python3"
  },
  "language_info": {
   "codemirror_mode": {
    "name": "ipython",
    "version": 3
   },
   "file_extension": ".py",
   "mimetype": "text/x-python",
   "name": "python",
   "nbconvert_exporter": "python",
   "pygments_lexer": "ipython3",
   "version": "3.8.13"
  },
  "vscode": {
   "interpreter": {
    "hash": "53dfe34765113b3b2409c8f4a9b63bf9153a9ae9765388eedf6846bc592613e5"
   }
  }
 },
 "nbformat": 4,
 "nbformat_minor": 5
}
