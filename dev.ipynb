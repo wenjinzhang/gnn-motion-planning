{
 "cells": [
  {
   "cell_type": "markdown",
   "id": "3ece30ba-ae24-4063-b8c2-6b9330c4ca20",
   "metadata": {},
   "source": [
    "# Basic Usage"
   ]
  },
  {
   "cell_type": "markdown",
   "id": "45678be0-6b31-4c6c-9ab4-ed7ad2761123",
   "metadata": {},
   "source": [
    "## Evaluation"
   ]
  },
  {
   "cell_type": "code",
   "execution_count": 1,
   "id": "53185bf1-6501-4f3a-a051-bb3608da0754",
   "metadata": {},
   "outputs": [
    {
     "name": "stderr",
     "output_type": "stream",
     "text": [
      "/home/wenjin/anaconda3/envs/gnnmp/lib/python3.8/site-packages/tqdm/auto.py:22: TqdmWarning: IProgress not found. Please update jupyter and ipywidgets. See https://ipywidgets.readthedocs.io/en/stable/user_install.html\n",
      "  from .autonotebook import tqdm as notebook_tqdm\n",
      "pybullet build time: May 20 2022 19:44:17\n"
     ]
    }
   ],
   "source": [
    "from eval_gnn import eval_gnn\n",
    "from str2env import str2env"
   ]
  },
  {
   "cell_type": "code",
   "execution_count": 2,
   "id": "dc2236d9-7fe9-40d6-bda7-e10e803ff792",
   "metadata": {},
   "outputs": [
    {
     "name": "stderr",
     "output_type": "stream",
     "text": [
      "gnn 0.03s, search 0.06s, explored 6:   1%|          | 9/1000 [00:04<08:21,  1.98it/s] \n"
     ]
    },
    {
     "ename": "KeyboardInterrupt",
     "evalue": "",
     "output_type": "error",
     "traceback": [
      "\u001b[0;31m---------------------------------------------------------------------------\u001b[0m",
      "\u001b[0;31mKeyboardInterrupt\u001b[0m                         Traceback (most recent call last)",
      "Cell \u001b[0;32mIn [2], line 4\u001b[0m\n\u001b[1;32m      2\u001b[0m env, indexes \u001b[39m=\u001b[39m str2env(\u001b[39m'\u001b[39m\u001b[39mmaze2hard\u001b[39m\u001b[39m'\u001b[39m)  \u001b[39m# choose env among ('maze2easy', 'maze2hard', 'kuka7', 'ur5', 'snake7', 'kuka13', 'kuka14')\u001b[39;00m\n\u001b[1;32m      3\u001b[0m \u001b[39m# evaluation with GNN\u001b[39;00m\n\u001b[0;32m----> 4\u001b[0m _ \u001b[39m=\u001b[39m eval_gnn(\u001b[39mstr\u001b[39;49m(env), \u001b[39m1234\u001b[39;49m, env\u001b[39m=\u001b[39;49menv, indexes\u001b[39m=\u001b[39;49mindexes, smooth\u001b[39m=\u001b[39;49m\u001b[39mTrue\u001b[39;49;00m, use_tqdm\u001b[39m=\u001b[39;49m\u001b[39mTrue\u001b[39;49;00m)\n",
      "File \u001b[0;32m~/dev/gnn-motion-planning/eval_gnn.py:116\u001b[0m, in \u001b[0;36meval_gnn\u001b[0;34m(str, seed, env, indexes, model, model_s, use_tqdm, smooth, batch, t_max, k, **kwargs)\u001b[0m\n\u001b[1;32m    113\u001b[0m \u001b[39mfor\u001b[39;00m index \u001b[39min\u001b[39;00m pbar:\n\u001b[1;32m    115\u001b[0m     env\u001b[39m.\u001b[39minit_new_problem(index)\n\u001b[0;32m--> 116\u001b[0m     result \u001b[39m=\u001b[39m explore(env, model, model_s, smooth, batch\u001b[39m=\u001b[39;49mbatch, t_max\u001b[39m=\u001b[39;49mt_max, k\u001b[39m=\u001b[39;49mk, \u001b[39m*\u001b[39;49m\u001b[39m*\u001b[39;49mkwargs)\n\u001b[1;32m    118\u001b[0m     paths\u001b[39m.\u001b[39mappend(result[\u001b[39m'\u001b[39m\u001b[39mpath\u001b[39m\u001b[39m'\u001b[39m])\n\u001b[1;32m    119\u001b[0m     smooth_paths\u001b[39m.\u001b[39mappend(result[\u001b[39m'\u001b[39m\u001b[39msmooth_path\u001b[39m\u001b[39m'\u001b[39m])\n",
      "File \u001b[0;32m~/anaconda3/envs/gnnmp/lib/python3.8/site-packages/torch/autograd/grad_mode.py:27\u001b[0m, in \u001b[0;36m_DecoratorContextManager.__call__.<locals>.decorate_context\u001b[0;34m(*args, **kwargs)\u001b[0m\n\u001b[1;32m     24\u001b[0m \u001b[39m@functools\u001b[39m\u001b[39m.\u001b[39mwraps(func)\n\u001b[1;32m     25\u001b[0m \u001b[39mdef\u001b[39;00m \u001b[39mdecorate_context\u001b[39m(\u001b[39m*\u001b[39margs, \u001b[39m*\u001b[39m\u001b[39m*\u001b[39mkwargs):\n\u001b[1;32m     26\u001b[0m     \u001b[39mwith\u001b[39;00m \u001b[39mself\u001b[39m\u001b[39m.\u001b[39mclone():\n\u001b[0;32m---> 27\u001b[0m         \u001b[39mreturn\u001b[39;00m func(\u001b[39m*\u001b[39;49margs, \u001b[39m*\u001b[39;49m\u001b[39m*\u001b[39;49mkwargs)\n",
      "File \u001b[0;32m~/dev/gnn-motion-planning/eval_gnn.py:195\u001b[0m, in \u001b[0;36mexplore\u001b[0;34m(env, model, model_s, smooth, batch, t_max, k, smoother, loop)\u001b[0m\n\u001b[1;32m    193\u001b[0m t1 \u001b[39m=\u001b[39m time()\n\u001b[1;32m    194\u001b[0m policy \u001b[39m=\u001b[39m model(\u001b[39m*\u001b[39m\u001b[39m*\u001b[39mdata\u001b[39m.\u001b[39mto(device)\u001b[39m.\u001b[39mto_dict(), \u001b[39m*\u001b[39m\u001b[39m*\u001b[39mobs_data(env, free, collided), loop\u001b[39m=\u001b[39mloop)\n\u001b[0;32m--> 195\u001b[0m policy \u001b[39m=\u001b[39m policy\u001b[39m.\u001b[39;49mcpu()\n\u001b[1;32m    196\u001b[0m forward \u001b[39m+\u001b[39m\u001b[39m=\u001b[39m time() \u001b[39m-\u001b[39m t1\n\u001b[1;32m    198\u001b[0m policy[torch\u001b[39m.\u001b[39marange(\u001b[39mlen\u001b[39m(data\u001b[39m.\u001b[39mv)), torch\u001b[39m.\u001b[39marange(\u001b[39mlen\u001b[39m(data\u001b[39m.\u001b[39mv))] \u001b[39m=\u001b[39m \u001b[39m0\u001b[39m\n",
      "\u001b[0;31mKeyboardInterrupt\u001b[0m: "
     ]
    }
   ],
   "source": [
    "# evaluation on the test cases\n",
    "env, indexes = str2env('maze2hard')  # choose env among ('maze2easy', 'maze2hard', 'kuka7', 'ur5', 'snake7', 'kuka13', 'kuka14')\n",
    "# evaluation with GNN\n",
    "_ = eval_gnn(str(env), 1234, env=env, indexes=indexes, smooth=True, use_tqdm=True)"
   ]
  },
  {
   "cell_type": "markdown",
   "id": "2387fd14-4744-495b-9767-c975a056e0e2",
   "metadata": {
    "tags": []
   },
   "source": [
    "# Advanced"
   ]
  },
  {
   "cell_type": "markdown",
   "id": "05521eff-ed8e-45da-9f97-2a74dd640f25",
   "metadata": {},
   "source": [
    "## Generate New Dataset"
   ]
  },
  {
   "cell_type": "code",
   "execution_count": 3,
   "id": "f7e37378-4598-4334-877d-6633d1061ae1",
   "metadata": {},
   "outputs": [
    {
     "name": "stderr",
     "output_type": "stream",
     "text": [
      "len of new data: 9:   0%|          | 38/10000000 [00:00<24:24:35, 113.80it/s]\n"
     ]
    }
   ],
   "source": [
    "from diversify_maze import find_mazes, INFINITY\n",
    "import numpy as np\n",
    "# generate 1000 test cases\n",
    "maps, init_states, goal_states = find_mazes(10, density=[100, 150], dist2goal_threshold=1)\n",
    "np.savez('maze_files/mazes_new_dataset.npz', maps=maps, goal_states=goal_states, init_states=init_states)"
   ]
  },
  {
   "cell_type": "markdown",
   "id": "4927f646-9be8-4b59-99b3-a044aeaf2902",
   "metadata": {},
   "source": [
    "## Test on New Environment"
   ]
  },
  {
   "cell_type": "code",
   "execution_count": 4,
   "id": "56902222-0999-415a-9976-72ad8442defa",
   "metadata": {},
   "outputs": [
    {
     "name": "stderr",
     "output_type": "stream",
     "text": [
      "  1%|          | 10/1000 [00:01<02:33,  6.43it/s]\n"
     ]
    },
    {
     "ename": "IndexError",
     "evalue": "list index out of range",
     "output_type": "error",
     "traceback": [
      "\u001b[0;31m---------------------------------------------------------------------------\u001b[0m",
      "\u001b[0;31mIndexError\u001b[0m                                Traceback (most recent call last)",
      "Cell \u001b[0;32mIn [4], line 21\u001b[0m\n\u001b[1;32m     17\u001b[0m model_s\u001b[39m.\u001b[39meval()\n\u001b[1;32m     19\u001b[0m \u001b[39mfor\u001b[39;00m i \u001b[39min\u001b[39;00m tqdm(\u001b[39mrange\u001b[39m(\u001b[39m1000\u001b[39m)):\n\u001b[0;32m---> 21\u001b[0m     env\u001b[39m.\u001b[39;49minit_new_problem(i)\n\u001b[1;32m     22\u001b[0m     set_random_seed(\u001b[39m1234\u001b[39m)\n\u001b[1;32m     23\u001b[0m     _, model, model_path, model_s, model_s_path \u001b[39m=\u001b[39m str2name(\u001b[39mstr\u001b[39m(env))\n",
      "File \u001b[0;32m~/dev/gnn-motion-planning/environment/maze_env.py:47\u001b[0m, in \u001b[0;36mMazeEnv.init_new_problem\u001b[0;34m(self, index)\u001b[0m\n\u001b[1;32m     45\u001b[0m \u001b[39mif\u001b[39;00m index \u001b[39mis\u001b[39;00m \u001b[39mNone\u001b[39;00m:\n\u001b[1;32m     46\u001b[0m     index \u001b[39m=\u001b[39m \u001b[39mself\u001b[39m\u001b[39m.\u001b[39mepisode_i\n\u001b[0;32m---> 47\u001b[0m \u001b[39mself\u001b[39m\u001b[39m.\u001b[39mmap \u001b[39m=\u001b[39m \u001b[39mself\u001b[39m\u001b[39m.\u001b[39mmaps[\u001b[39mself\u001b[39;49m\u001b[39m.\u001b[39;49morder[index]]\n\u001b[1;32m     48\u001b[0m \u001b[39mself\u001b[39m\u001b[39m.\u001b[39mwidth \u001b[39m=\u001b[39m \u001b[39mself\u001b[39m\u001b[39m.\u001b[39mmap\u001b[39m.\u001b[39mshape[\u001b[39m0\u001b[39m]\n\u001b[1;32m     49\u001b[0m \u001b[39mself\u001b[39m\u001b[39m.\u001b[39minit_state \u001b[39m=\u001b[39m \u001b[39mself\u001b[39m\u001b[39m.\u001b[39minit_states[\u001b[39mself\u001b[39m\u001b[39m.\u001b[39morder[index]]\n",
      "\u001b[0;31mIndexError\u001b[0m: list index out of range"
     ]
    }
   ],
   "source": [
    "from tqdm import tqdm\n",
    "from config import set_random_seed\n",
    "from str2name import str2name\n",
    "import torch\n",
    "from eval_gnn import explore\n",
    "\n",
    "from environment import MazeEnv\n",
    "env = MazeEnv(dim=2, map_file='maze_files/mazes_new_dataset.npz')\n",
    "indexes = range(0, 1000)\n",
    "bs = 100  # only sample 100 points\n",
    "results = []\n",
    "\n",
    "_, model, model_path, model_s, model_s_path = str2name(str(env))\n",
    "model.load_state_dict(torch.load(model_path, map_location=torch.device(\"cpu\")))\n",
    "model_s.load_state_dict(torch.load(model_s_path, map_location=torch.device(\"cpu\")))\n",
    "model.eval()\n",
    "model_s.eval()\n",
    "\n",
    "for i in tqdm(range(10)):\n",
    "    \n",
    "    env.init_new_problem(i)\n",
    "    set_random_seed(1234)\n",
    "    _, model, model_path, model_s, model_s_path = str2name(str(env))\n",
    "    result = explore(env, model, model_s, smooth=True, smoother='none', batch=bs, t_max=bs, k=10) \n",
    "    \n",
    "    results.append(result)"
   ]
  },
  {
   "cell_type": "code",
   "execution_count": null,
   "id": "dc566b02-f162-4104-afdc-9c5cb2ca1fee",
   "metadata": {},
   "outputs": [],
   "source": [
    "# get the collision numbers\n",
    "c_explores = [r['c_explore'] for r in results]"
   ]
  },
  {
   "cell_type": "code",
   "execution_count": null,
   "id": "85e6f7f9-7645-47d5-8666-d484986279bd",
   "metadata": {
    "tags": []
   },
   "outputs": [],
   "source": [
    "%matplotlib inline\n",
    "import matplotlib.pyplot as plt\n",
    "from utils.plot import plot_edges\n",
    "i = np.argmin(c_explores)\n",
    "env.init_new_problem(i)\n",
    "edges = results[i]['data'].v[np.array(results[i]['explored_edges']).reshape(-1)].reshape(-1, 2, 2)\n",
    "edges = [[tuple(k), tuple(v)] for k, v in zip(edges[:, 0, :].cpu().numpy(), edges[:, 1, :].cpu().numpy())]\n",
    "plot_edges(results[i]['path'], edges, env.get_problem(), \\\n",
    "           title='{0:d} collision checks'.format(results[i]['c_explore']), \\\n",
    "           save=None)\n",
    "plt.show()"
   ]
  },
  {
   "cell_type": "code",
   "execution_count": null,
   "id": "84434644-2622-49da-a309-381717300320",
   "metadata": {},
   "outputs": [],
   "source": [
    "i = np.argmax(c_explores)\n",
    "env.init_new_problem(i)\n",
    "edges = results[i]['data'].v[np.array(results[i]['explored_edges']).reshape(-1)].reshape(-1, 2, 2)\n",
    "edges = [[tuple(k), tuple(v)] for k, v in zip(edges[:, 0, :].cpu().numpy(), edges[:, 1, :].cpu().numpy())]\n",
    "plot_edges(results[i]['path'], edges, env.get_problem(), \\\n",
    "           title='{0:d} collision checks'.format(results[i]['c_explore']), \\\n",
    "           save=None)\n",
    "plt.show()"
   ]
  }
 ],
 "metadata": {
  "kernelspec": {
   "display_name": "Python 3.8.13 ('gnnmp')",
   "language": "python",
   "name": "python3"
  },
  "language_info": {
   "codemirror_mode": {
    "name": "ipython",
    "version": 3
   },
   "file_extension": ".py",
   "mimetype": "text/x-python",
   "name": "python",
   "nbconvert_exporter": "python",
   "pygments_lexer": "ipython3",
   "version": "3.8.13"
  },
  "vscode": {
   "interpreter": {
    "hash": "53dfe34765113b3b2409c8f4a9b63bf9153a9ae9765388eedf6846bc592613e5"
   }
  }
 },
 "nbformat": 4,
 "nbformat_minor": 5
}
