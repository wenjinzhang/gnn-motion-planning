{
 "cells": [
  {
   "cell_type": "markdown",
   "id": "3ece30ba-ae24-4063-b8c2-6b9330c4ca20",
   "metadata": {},
   "source": [
    "# Basic Usage"
   ]
  },
  {
   "cell_type": "markdown",
   "id": "45678be0-6b31-4c6c-9ab4-ed7ad2761123",
   "metadata": {},
   "source": [
    "## Evaluation"
   ]
  },
  {
   "cell_type": "code",
   "execution_count": 1,
   "id": "53185bf1-6501-4f3a-a051-bb3608da0754",
   "metadata": {},
   "outputs": [
    {
     "name": "stderr",
     "output_type": "stream",
     "text": [
      "/home/wenjin/anaconda3/envs/gnnmp/lib/python3.8/site-packages/tqdm/auto.py:22: TqdmWarning: IProgress not found. Please update jupyter and ipywidgets. See https://ipywidgets.readthedocs.io/en/stable/user_install.html\n",
      "  from .autonotebook import tqdm as notebook_tqdm\n",
      "pybullet build time: May 20 2022 19:44:17\n"
     ]
    }
   ],
   "source": [
    "from eval_gnn import eval_gnn\n",
    "from str2env import str2env"
   ]
  },
  {
   "cell_type": "code",
   "execution_count": 6,
   "id": "c74d428b",
   "metadata": {},
   "outputs": [
    {
     "name": "stdout",
     "output_type": "stream",
     "text": [
      "3000\n",
      "3000\n",
      "[-0.85735603  0.57040995]\n"
     ]
    }
   ],
   "source": [
    "# check maze environment\n",
    "env, indexes = str2env('maze2easy')  # choose env among ('maze2easy', 'maze2hard', 'kuka7', 'ur5', 'snake7', 'kuka13', 'kuka14')\n",
    "print(len(env.maps))\n",
    "print(len(env.init_states))\n",
    "\n",
    "print(env.init_states[0])\n",
    "_ = env.init_new_problem()\n",
    "# print(env.map)\n",
    "# print(\"obstacles\", env.obstacles)\n",
    "# print(env._transform((0.86666667, 0.86666667)))\n",
    "\n",
    "\n",
    "\n",
    "%matplotlib inline\n",
    "import matplotlib.pyplot as plt\n",
    "from utils.plot import plot_edges, plot_env_only, plot_optimization_edges\n",
    "\n",
    "# perform 10 random obstacles movement\n",
    "for i in range(10):\n",
    "    plot_env_only(env.get_problem(), env, save=\"./debug_files/{}.png\".format(i), title=\"step:{}\".format(i+1))\n",
    "    env.moving_once(env.get_problem())"
   ]
  },
  {
   "cell_type": "code",
   "execution_count": 2,
   "id": "dc2236d9-7fe9-40d6-bda7-e10e803ff792",
   "metadata": {},
   "outputs": [
    {
     "name": "stderr",
     "output_type": "stream",
     "text": [
      "gnn 0.02s, search 0.05s, explored 6: 100%|██████████| 1000/1000 [02:22<00:00,  7.03it/s] "
     ]
    },
    {
     "name": "stdout",
     "output_type": "stream",
     "text": [
      "success rate: 1000\n",
      "collision check: 1364.40\n",
      "collision check explore: 1244.76\n",
      "running time: 0.14\n",
      "path cost: 1.22\n",
      "total time: 140.57\n",
      "total time explore: 123.86\n",
      "\n"
     ]
    },
    {
     "name": "stderr",
     "output_type": "stream",
     "text": [
      "\n"
     ]
    }
   ],
   "source": [
    "# evaluation on the test cases\n",
    "env, indexes = str2env('maze2easy')  # choose env among ('maze2easy', 'maze2hard', 'kuka7', 'ur5', 'snake7', 'kuka13', 'kuka14')\n",
    "# evaluation with GNN\n",
    "_ = eval_gnn(str(env), 1234, env=env, indexes=indexes, smooth=True, use_tqdm=True)"
   ]
  },
  {
   "cell_type": "markdown",
   "id": "2387fd14-4744-495b-9767-c975a056e0e2",
   "metadata": {
    "tags": []
   },
   "source": [
    "# Advanced"
   ]
  },
  {
   "cell_type": "markdown",
   "id": "05521eff-ed8e-45da-9f97-2a74dd640f25",
   "metadata": {},
   "source": [
    "## Generate New Dataset"
   ]
  },
  {
   "cell_type": "code",
   "execution_count": 2,
   "id": "f7e37378-4598-4334-877d-6633d1061ae1",
   "metadata": {},
   "outputs": [
    {
     "name": "stderr",
     "output_type": "stream",
     "text": [
      "len of new data: 9:   0%|          | 45/10000000 [00:00<24:12:32, 114.74it/s]\n"
     ]
    }
   ],
   "source": [
    "from diversify_maze import find_mazes, INFINITY\n",
    "import numpy as np\n",
    "# generate 1000 test cases\n",
    "maps, init_states, goal_states = find_mazes(10, density=[100, 150], dist2goal_threshold=1)\n",
    "np.savez('maze_files/mazes_new_dataset.npz', maps=maps, goal_states=goal_states, init_states=init_states)"
   ]
  },
  {
   "cell_type": "markdown",
   "id": "4927f646-9be8-4b59-99b3-a044aeaf2902",
   "metadata": {},
   "source": [
    "## Test on New Environment"
   ]
  },
  {
   "cell_type": "code",
   "execution_count": 12,
   "id": "56902222-0999-415a-9976-72ad8442defa",
   "metadata": {},
   "outputs": [
    {
     "name": "stderr",
     "output_type": "stream",
     "text": [
      "100%|██████████| 10/10 [00:02<00:00,  4.06it/s]\n"
     ]
    }
   ],
   "source": [
    "from tqdm import tqdm\n",
    "from config import set_random_seed\n",
    "from str2name import str2name\n",
    "import torch\n",
    "from eval_gnn import explore\n",
    "\n",
    "from environment import MazeEnv\n",
    "env = MazeEnv(dim=2, map_file='maze_files/mazes_new_dataset.npz')\n",
    "indexes = range(0, 1000)\n",
    "bs = 100  # only sample 100 points\n",
    "results = []\n",
    "\n",
    "_, model, model_path, model_s, model_s_path = str2name(str(env))\n",
    "model.load_state_dict(torch.load(model_path, map_location=torch.device(\"cpu\")))\n",
    "model_s.load_state_dict(torch.load(model_s_path, map_location=torch.device(\"cpu\")))\n",
    "model.eval()\n",
    "model_s.eval()\n",
    "\n",
    "for i in tqdm(range(10)):\n",
    "    \n",
    "    env.init_new_problem(i)\n",
    "    set_random_seed(1234)\n",
    "    _, model, model_path, model_s, model_s_path = str2name(str(env))\n",
    "    result = explore(env, model, model_s, smooth=True, smoother='oracle', batch=bs, t_max=bs, k=10) \n",
    "    \n",
    "    results.append(result)"
   ]
  },
  {
   "cell_type": "code",
   "execution_count": 29,
   "id": "b8b0d10b",
   "metadata": {},
   "outputs": [
    {
     "name": "stdout",
     "output_type": "stream",
     "text": [
      "<class 'dict'>\n",
      "c_explore\n",
      "c_smooth\n",
      "data\n",
      "explored\n",
      "forward\n",
      "total\n",
      "total_explore\n",
      "success\n",
      "t0\n",
      "path\n",
      "smooth_path\n",
      "explored_edges\n",
      "[array([0.5767744, 0.7837667], dtype=float32), (0.7691946408097953, 0.7297078215371327), (0.7854325534910956, 0.6312934591105511), (0.7874313884933974, 0.6094406661791287), (0.7767580115767073, 0.4536586071754781), (0.7730949925963325, 0.3417057007071739), (0.7928280050198152, 0.2988070977483578), (0.7934223824036832, 0.20885660800164263), array([0.76667154, 0.13827716], dtype=float32), (0.7615094057743671, 0.08847791785281174), (0.7382452881699406, -0.17993769044323465), (0.5867991603090158, -0.3501830183053238), (0.569757362417953, -0.4823899332450175), (0.5043011436161883, -0.7018887746112332), (0.3850087291911096, -0.7730420502530156), (0.2348705206961705, -0.781864244470943), (0.014579957273636368, -0.7202538065140223), (-0.04455654248103132, -0.5703811707415128), (-0.04581360137258846, -0.27498929350036627), (-0.04252366931674686, -0.0709284846526562), (-0.18823169243211918, -0.04277217754321999), (-0.29646233259807087, -0.40628179876379666), array([-0.41237634, -0.58821106], dtype=float32)]\n"
     ]
    }
   ],
   "source": [
    "print(type(results[0]))\n",
    "one_solution = results[1]\n",
    "\n",
    "for key in one_solution:\n",
    "    print(key)\n",
    "\n",
    "print(one_solution[\"smooth_path\"])\n"
   ]
  },
  {
   "cell_type": "code",
   "execution_count": 13,
   "id": "dc566b02-f162-4104-afdc-9c5cb2ca1fee",
   "metadata": {},
   "outputs": [],
   "source": [
    "# get the collision numbers\n",
    "c_explores = [r['c_explore'] for r in results]"
   ]
  },
  {
   "cell_type": "code",
   "execution_count": 14,
   "id": "85e6f7f9-7645-47d5-8666-d484986279bd",
   "metadata": {
    "tags": []
   },
   "outputs": [
    {
     "data": {
      "text/plain": [
       "<Figure size 640x480 with 0 Axes>"
      ]
     },
     "metadata": {},
     "output_type": "display_data"
    },
    {
     "data": {
      "image/png": "[encoded data removed]",
      "text/plain": [
       "<Figure size 400x400 with 1 Axes>"
      ]
     },
     "metadata": {},
     "output_type": "display_data"
    }
   ],
   "source": [
    "%matplotlib inline\n",
    "import matplotlib.pyplot as plt\n",
    "from utils.plot import plot_edges\n",
    "i = np.argmin(c_explores)\n",
    "env.init_new_problem(i)\n",
    "edges = results[i]['data'].v[ np.array(results[i]['explored_edges']).reshape(-1) ].reshape(-1, 2, 2)\n",
    "edges = [[tuple(k), tuple(v)] for k, v in zip(edges[:, 0, :].cpu().numpy(), edges[:, 1, :].cpu().numpy())]\n",
    "plot_optimization_edges(results[i]['smooth_path'], edges, env.get_problem(), \\\n",
    "           title='{0:d} collision checks'.format(results[i]['c_explore']), \\\n",
    "           save=None)\n",
    "plt.show()"
   ]
  },
  {
   "cell_type": "code",
   "execution_count": 25,
   "id": "98755ec3",
   "metadata": {},
   "outputs": [
    {
     "name": "stdout",
     "output_type": "stream",
     "text": [
      "[  0   0   0  98  98   0  98  16  16  98  16  62  62  16  62  57  57  62\n",
      "  57  97  97  57  57  37  37  57  97   5   5  97  57   5   5  57  57  31\n",
      "  31  57  97   8   8  97  97  70  70  97  70   8   8  70  70  91  91  70\n",
      "  91   8   8  91  91  23  23  91  70  36  36  70  70  46  46  70  46   8\n",
      "   8  46  46  22  22  46  70  22  22  70  46  71  71  46  71   8   8  71\n",
      "   8  22  22   8  22  81  81  22  23  53  53  23  22  85  85  22  85  96\n",
      "  96  85  37 100 100  37  96  32  32  96  85  32  32  85  23  77  77  23\n",
      "  81  32  32  81  32  27  27  32  27   1   1  27]\n",
      "tensor([[-0.2937,  0.8065],\n",
      "        [-0.2937,  0.8065],\n",
      "        [-0.2937,  0.8065],\n",
      "        [-0.0533,  0.8051],\n",
      "        [-0.0533,  0.8051],\n",
      "        [-0.2937,  0.8065],\n",
      "        [-0.0533,  0.8051],\n",
      "        [ 0.2349,  0.8242],\n",
      "        [ 0.2349,  0.8242],\n",
      "        [-0.0533,  0.8051],\n",
      "        [ 0.2349,  0.8242],\n",
      "        [ 0.5114,  0.8642],\n",
      "        [ 0.5114,  0.8642],\n",
      "        [ 0.2349,  0.8242],\n",
      "        [ 0.5114,  0.8642],\n",
      "        [ 0.8438,  0.7466],\n",
      "        [ 0.8438,  0.7466],\n",
      "        [ 0.5114,  0.8642],\n",
      "        [ 0.8438,  0.7466],\n",
      "        [ 0.8635,  0.6920],\n",
      "        [ 0.8635,  0.6920],\n",
      "        [ 0.8438,  0.7466],\n",
      "        [ 0.8438,  0.7466],\n",
      "        [ 0.5232,  0.8288],\n",
      "        [ 0.5232,  0.8288],\n",
      "        [ 0.8438,  0.7466],\n",
      "        [ 0.8635,  0.6920],\n",
      "        [ 0.5457,  0.7653],\n",
      "        [ 0.5457,  0.7653],\n",
      "        [ 0.8635,  0.6920],\n",
      "        [ 0.8438,  0.7466],\n",
      "        [ 0.5457,  0.7653],\n",
      "        [ 0.5457,  0.7653],\n",
      "        [ 0.8438,  0.7466],\n",
      "        [ 0.8438,  0.7466],\n",
      "        [ 0.4533,  0.8002],\n",
      "        [ 0.4533,  0.8002],\n",
      "        [ 0.8438,  0.7466],\n",
      "        [ 0.8635,  0.6920],\n",
      "        [ 0.8663,  0.3028],\n",
      "        [ 0.8663,  0.3028],\n",
      "        [ 0.8635,  0.6920],\n",
      "        [ 0.8635,  0.6920],\n",
      "        [ 0.7130,  0.4556],\n",
      "        [ 0.7130,  0.4556],\n",
      "        [ 0.8635,  0.6920],\n",
      "        [ 0.7130,  0.4556],\n",
      "        [ 0.8663,  0.3028],\n",
      "        [ 0.8663,  0.3028],\n",
      "        [ 0.7130,  0.4556],\n",
      "        [ 0.7130,  0.4556],\n",
      "        [ 0.6605,  0.4895],\n",
      "        [ 0.6605,  0.4895],\n",
      "        [ 0.7130,  0.4556],\n",
      "        [ 0.6605,  0.4895],\n",
      "        [ 0.8663,  0.3028],\n",
      "        [ 0.8663,  0.3028],\n",
      "        [ 0.6605,  0.4895],\n",
      "        [ 0.6605,  0.4895],\n",
      "        [ 0.4921,  0.6620],\n",
      "        [ 0.4921,  0.6620],\n",
      "        [ 0.6605,  0.4895],\n",
      "        [ 0.7130,  0.4556],\n",
      "        [ 0.5524,  0.5650],\n",
      "        [ 0.5524,  0.5650],\n",
      "        [ 0.7130,  0.4556],\n",
      "        [ 0.7130,  0.4556],\n",
      "        [ 0.6811,  0.4242],\n",
      "        [ 0.6811,  0.4242],\n",
      "        [ 0.7130,  0.4556],\n",
      "        [ 0.6811,  0.4242],\n",
      "        [ 0.8663,  0.3028],\n",
      "        [ 0.8663,  0.3028],\n",
      "        [ 0.6811,  0.4242],\n",
      "        [ 0.6811,  0.4242],\n",
      "        [ 0.8364,  0.2515],\n",
      "        [ 0.8364,  0.2515],\n",
      "        [ 0.6811,  0.4242],\n",
      "        [ 0.7130,  0.4556],\n",
      "        [ 0.8364,  0.2515],\n",
      "        [ 0.8364,  0.2515],\n",
      "        [ 0.7130,  0.4556],\n",
      "        [ 0.6811,  0.4242],\n",
      "        [ 0.7137,  0.3295],\n",
      "        [ 0.7137,  0.3295],\n",
      "        [ 0.6811,  0.4242],\n",
      "        [ 0.7137,  0.3295],\n",
      "        [ 0.8663,  0.3028],\n",
      "        [ 0.8663,  0.3028],\n",
      "        [ 0.7137,  0.3295],\n",
      "        [ 0.8663,  0.3028],\n",
      "        [ 0.8364,  0.2515],\n",
      "        [ 0.8364,  0.2515],\n",
      "        [ 0.8663,  0.3028],\n",
      "        [ 0.8364,  0.2515],\n",
      "        [ 0.7607,  0.2748],\n",
      "        [ 0.7607,  0.2748],\n",
      "        [ 0.8364,  0.2515],\n",
      "        [ 0.4921,  0.6620],\n",
      "        [ 0.2554,  0.8610],\n",
      "        [ 0.2554,  0.8610],\n",
      "        [ 0.4921,  0.6620],\n",
      "        [ 0.8364,  0.2515],\n",
      "        [ 0.7667,  0.1383],\n",
      "        [ 0.7667,  0.1383],\n",
      "        [ 0.8364,  0.2515],\n",
      "        [ 0.7667,  0.1383],\n",
      "        [ 0.7681,  0.1341],\n",
      "        [ 0.7681,  0.1341],\n",
      "        [ 0.7667,  0.1383],\n",
      "        [ 0.5232,  0.8288],\n",
      "        [ 0.1610,  0.8616],\n",
      "        [ 0.1610,  0.8616],\n",
      "        [ 0.5232,  0.8288],\n",
      "        [ 0.7681,  0.1341],\n",
      "        [ 0.5583,  0.1983],\n",
      "        [ 0.5583,  0.1983],\n",
      "        [ 0.7681,  0.1341],\n",
      "        [ 0.7667,  0.1383],\n",
      "        [ 0.5583,  0.1983],\n",
      "        [ 0.5583,  0.1983],\n",
      "        [ 0.7667,  0.1383],\n",
      "        [ 0.4921,  0.6620],\n",
      "        [ 0.2134,  0.6443],\n",
      "        [ 0.2134,  0.6443],\n",
      "        [ 0.4921,  0.6620],\n",
      "        [ 0.7607,  0.2748],\n",
      "        [ 0.5583,  0.1983],\n",
      "        [ 0.5583,  0.1983],\n",
      "        [ 0.7607,  0.2748],\n",
      "        [ 0.5583,  0.1983],\n",
      "        [ 0.5937,  0.1155],\n",
      "        [ 0.5937,  0.1155],\n",
      "        [ 0.5583,  0.1983],\n",
      "        [ 0.5937,  0.1155],\n",
      "        [ 0.4554,  0.1236],\n",
      "        [ 0.4554,  0.1236],\n",
      "        [ 0.5937,  0.1155]], device='cuda:0')\n",
      "tensor([[-0.2937,  0.8065],\n",
      "        [ 0.4554,  0.1236],\n",
      "        [-0.1245,  0.5707],\n",
      "        [-0.2844,  0.0020],\n",
      "        [-0.2595,  0.1224],\n",
      "        [ 0.5457,  0.7653],\n",
      "        [-0.2702,  0.2308],\n",
      "        [-0.8492, -0.2624],\n",
      "        [ 0.8663,  0.3028],\n",
      "        [-0.2056,  0.5775],\n",
      "        [ 0.7383, -0.1277],\n",
      "        [ 0.6043, -0.7125],\n",
      "        [-0.5624,  0.8497],\n",
      "        [-0.1157,  0.8186],\n",
      "        [-0.3407,  0.0059],\n",
      "        [-0.7762,  0.2144],\n",
      "        [ 0.2349,  0.8242],\n",
      "        [-0.4295,  0.2498],\n",
      "        [-0.7521, -0.7612],\n",
      "        [ 0.4770,  0.1746],\n",
      "        [-0.0567, -0.7857],\n",
      "        [-0.5416,  0.7999],\n",
      "        [ 0.8364,  0.2515],\n",
      "        [ 0.4921,  0.6620],\n",
      "        [ 0.2675, -0.1234],\n",
      "        [-0.0393,  0.0051],\n",
      "        [ 0.0738,  0.6384],\n",
      "        [ 0.5937,  0.1155],\n",
      "        [-0.0844,  0.8408],\n",
      "        [ 0.7581, -0.4948],\n",
      "        [-0.3040, -0.6348],\n",
      "        [ 0.4533,  0.8002],\n",
      "        [ 0.5583,  0.1983],\n",
      "        [-0.3297,  0.3151],\n",
      "        [-0.8305, -0.3340],\n",
      "        [-0.4887, -0.7834],\n",
      "        [ 0.5524,  0.5650],\n",
      "        [ 0.5232,  0.8288],\n",
      "        [ 0.3172,  0.1367],\n",
      "        [-0.5965,  0.3966],\n",
      "        [ 0.0902, -0.0975],\n",
      "        [ 0.1868, -0.2679],\n",
      "        [-0.3538,  0.7428],\n",
      "        [-0.5687,  0.4699],\n",
      "        [-0.2688,  0.6032],\n",
      "        [ 0.2456, -0.0126],\n",
      "        [ 0.6811,  0.4242],\n",
      "        [-0.2735,  0.4614],\n",
      "        [-0.0489, -0.3112],\n",
      "        [ 0.2818, -0.7476],\n",
      "        [-0.6571,  0.4742],\n",
      "        [-0.7459, -0.2607],\n",
      "        [ 0.2087, -0.7938],\n",
      "        [ 0.2554,  0.8610],\n",
      "        [-0.8329,  0.5217],\n",
      "        [ 0.0185,  0.3221],\n",
      "        [ 0.2606, -0.2581],\n",
      "        [ 0.8438,  0.7466],\n",
      "        [-0.2965,  0.2603],\n",
      "        [-0.2843, -0.5744],\n",
      "        [-0.5534, -0.1609],\n",
      "        [-0.8542,  0.3017],\n",
      "        [ 0.5114,  0.8642],\n",
      "        [-0.2472, -0.4061],\n",
      "        [-0.2561,  0.6554],\n",
      "        [ 0.8023, -0.1454],\n",
      "        [-0.7871, -0.4057],\n",
      "        [-0.6335,  0.5948],\n",
      "        [ 0.2247,  0.1113],\n",
      "        [-0.5192,  0.5759],\n",
      "        [ 0.7130,  0.4556],\n",
      "        [ 0.7137,  0.3295],\n",
      "        [-0.3332,  0.0363],\n",
      "        [ 0.1537,  0.7005],\n",
      "        [-0.8477, -0.1798],\n",
      "        [ 0.8072, -0.4448],\n",
      "        [-0.4867,  0.3994],\n",
      "        [ 0.2134,  0.6443],\n",
      "        [ 0.2559, -0.7642],\n",
      "        [-0.6686,  0.0020],\n",
      "        [-0.8586, -0.6848],\n",
      "        [ 0.7607,  0.2748],\n",
      "        [ 0.3877,  0.0744],\n",
      "        [ 0.5664, -0.7097],\n",
      "        [-0.7829, -0.3452],\n",
      "        [ 0.7667,  0.1383],\n",
      "        [-0.5844,  0.7502],\n",
      "        [ 0.0710, -0.1104],\n",
      "        [ 0.8601, -0.6306],\n",
      "        [ 0.2459, -0.1741],\n",
      "        [-0.8251,  0.7739],\n",
      "        [ 0.6605,  0.4895],\n",
      "        [-0.0253, -0.4665],\n",
      "        [ 0.2100,  0.5071],\n",
      "        [-0.4588,  0.0446],\n",
      "        [-0.8033,  0.4273],\n",
      "        [ 0.7681,  0.1341],\n",
      "        [ 0.8635,  0.6920],\n",
      "        [-0.0533,  0.8051],\n",
      "        [-0.5480, -0.3917],\n",
      "        [ 0.1610,  0.8616],\n",
      "        [-0.3220, -0.7598],\n",
      "        [-0.6170,  0.2442],\n",
      "        [ 0.5600, -0.4548],\n",
      "        [-0.4471,  0.6037],\n",
      "        [ 0.9163,  0.7519],\n",
      "        [ 0.3669,  0.4254],\n",
      "        [ 0.0062, -0.9725],\n",
      "        [-0.3663,  0.1362],\n",
      "        [ 0.4085,  0.4092],\n",
      "        [-0.8804, -0.6314],\n",
      "        [-0.9053,  0.3498],\n",
      "        [ 0.1892,  0.0666],\n",
      "        [-0.9134,  0.1229],\n",
      "        [ 0.1319, -0.9865],\n",
      "        [ 0.5810,  0.9842],\n",
      "        [ 0.9176,  0.5839],\n",
      "        [-0.0438, -0.6086],\n",
      "        [-0.2354, -0.8923],\n",
      "        [-0.0967,  0.9640],\n",
      "        [-0.1665,  0.0717],\n",
      "        [-0.9876, -0.3987],\n",
      "        [-0.1262,  0.2243],\n",
      "        [ 0.4120, -0.7003],\n",
      "        [-0.6949,  0.1368],\n",
      "        [ 0.0564,  0.9029],\n",
      "        [-0.8858,  0.3388],\n",
      "        [ 0.5342,  0.4162],\n",
      "        [ 0.9317, -0.7057],\n",
      "        [-0.9407,  0.1878],\n",
      "        [-0.7719,  0.9016],\n",
      "        [-0.3486, -0.6128],\n",
      "        [ 0.8036,  0.4131],\n",
      "        [-0.4177, -0.6972],\n",
      "        [-0.8533, -0.8900],\n",
      "        [-0.3536,  0.1810],\n",
      "        [ 0.7078, -0.4259],\n",
      "        [-0.6539, -0.7320],\n",
      "        [ 0.9893, -0.6410],\n",
      "        [-0.3649,  0.1366],\n",
      "        [-0.9813,  0.8013],\n",
      "        [ 0.9545,  0.1138],\n",
      "        [ 0.4569, -0.7151],\n",
      "        [ 0.1049, -0.4539],\n",
      "        [ 0.9490,  0.3356],\n",
      "        [ 0.9044,  0.7799],\n",
      "        [ 0.9871,  0.6374],\n",
      "        [ 0.7811,  0.9465],\n",
      "        [ 0.5655,  0.4027],\n",
      "        [-0.1122, -0.9379],\n",
      "        [ 0.6047,  0.8911],\n",
      "        [ 0.9581,  0.7625],\n",
      "        [ 0.4496,  0.4334],\n",
      "        [-0.9178, -0.1210],\n",
      "        [-0.4359, -0.3300],\n",
      "        [-0.1065, -0.1698],\n",
      "        [-0.0392,  0.9666],\n",
      "        [-0.2532, -0.9752],\n",
      "        [-0.9956, -0.9161],\n",
      "        [-0.7164,  0.1965],\n",
      "        [-0.8832,  0.2426],\n",
      "        [-0.9546,  0.7101],\n",
      "        [-0.3873,  0.5176],\n",
      "        [ 0.1266, -0.9237],\n",
      "        [ 0.1310,  0.3177],\n",
      "        [ 0.2590,  0.3724],\n",
      "        [ 0.3847, -0.0553],\n",
      "        [-0.2106, -0.9379],\n",
      "        [ 0.9030,  0.3660],\n",
      "        [-0.9162, -0.6516],\n",
      "        [ 0.1308, -0.6542],\n",
      "        [ 0.1332,  0.0280],\n",
      "        [ 0.7377,  0.4407],\n",
      "        [ 0.8031,  0.9674],\n",
      "        [ 0.2818, -0.3400],\n",
      "        [-0.4282,  0.9735],\n",
      "        [-0.1364,  0.1485],\n",
      "        [ 0.0545, -0.6047],\n",
      "        [ 0.9804, -0.2120],\n",
      "        [ 0.4280, -0.6482],\n",
      "        [-0.6769, -0.4327],\n",
      "        [ 0.0734,  0.5465],\n",
      "        [ 0.7052,  0.1959],\n",
      "        [ 0.7785, -0.8955],\n",
      "        [-0.8826, -0.8820],\n",
      "        [-0.8961,  0.0320],\n",
      "        [-0.1900,  0.9993],\n",
      "        [ 0.9957, -0.1978],\n",
      "        [ 0.9065,  0.7708],\n",
      "        [ 0.5586, -0.9364],\n",
      "        [ 0.9252,  0.0393],\n",
      "        [-0.5517, -0.7227],\n",
      "        [ 0.4505,  0.9476],\n",
      "        [-0.9558,  0.2120],\n",
      "        [ 0.9296,  0.9352],\n",
      "        [-0.2739, -0.9268],\n",
      "        [ 0.7363,  0.3457],\n",
      "        [ 0.5649, -0.3654],\n",
      "        [ 0.6366,  0.0151],\n",
      "        [-0.9576, -0.1330],\n",
      "        [-0.1074, -0.5224],\n",
      "        [ 0.1730, -0.0143]], device='cuda:0')\n"
     ]
    }
   ],
   "source": [
    "print(np.array(results[i]['explored_edges']).reshape(-1))\n",
    "print(results[i]['data'].v[np.array(results[i]['explored_edges']).reshape(-1)])"
   ]
  },
  {
   "cell_type": "code",
   "execution_count": 15,
   "id": "84434644-2622-49da-a309-381717300320",
   "metadata": {},
   "outputs": [
    {
     "name": "stdout",
     "output_type": "stream",
     "text": [
      "{'c_explore': 939, 'c_smooth': 3555, 'data': Data(goal=[2], v=[202, 2], labels=[202, 3], edge_index=[2, 3094]), 'explored': [0, 67, 57, 11, 73, 62, 28, 52, 48, 90, 95, 27, 98, 10, 65, 58, 21, 32, 38, 80, 74, 60, 7, 76, 89, 22, 31, 43, 17, 92, 68, 24, 86, 56, 91, 97, 25, 13, 3, 94, 46, 55, 35, 23, 37, 59, 14, 84, 64, 54, 12, 20, 77, 36, 33, 81, 2, 51, 100, 63, 44, 41, 72, 30, 99, 40, 69, 42, 19, 93, 1], 'forward': 0.00754237174987793, 'total': 0.24811625480651855, 'total_explore': 0.12772226333618164, 'success': True, 't0': 1668218466.894259, 'path': [array([-0.52021235,  0.2539841 ], dtype=float32), array([-0.48666912,  0.39940652], dtype=float32), array([-0.5192349 ,  0.57585555], dtype=float32), array([-0.20559484,  0.5774603 ], dtype=float32), array([0.07341205, 0.54647744], dtype=float32), array([-0.05334025,  0.80511004], dtype=float32), array([-0.3538106,  0.7428465], dtype=float32), array([-0.8250568 ,  0.77393186], dtype=float32), array([-0.85417956,  0.30167815], dtype=float32), array([-0.8476749 , -0.17984411], dtype=float32), array([-0.7459412 , -0.26070026], dtype=float32), array([-0.676884  , -0.43272585], dtype=float32), array([-0.48869342, -0.783377  ], dtype=float32), array([-0.5936613, -0.8114469], dtype=float32)], 'smooth_path': [array([-0.52021235,  0.2539841 ], dtype=float32), (-0.49447538250673084, 0.3611074251843623), (-0.460568032896685, 0.472664224891753), (-0.1313447705131285, 0.581398483909801), (-0.028176401569475963, 0.6127963205818675), (-0.07677859665766397, 0.7481782315140441), (-0.34253118988977554, 0.7413126221666622), (-0.7703971281101855, 0.7362007321092325), (-0.7584425194224521, 0.3496191831985238), (-0.7415570337952536, -0.17196302317744527), (-0.6978085230090092, -0.30808615432785136), (-0.6624430243521203, -0.42607093502535925), (-0.5788596147038907, -0.688570507152124), array([-0.5936613, -0.8114469], dtype=float32)], 'explored_edges': [[0, 0], [0, 8], [8, 0], [0, 54], [54, 0], [0, 49], [49, 0], [0, 6], [6, 0], [0, 29], [29, 0], [0, 5], [5, 0], [0, 61], [61, 0], [0, 15], [15, 0], [0, 67], [67, 0], [67, 54], [54, 67], [67, 29], [29, 67], [67, 20], [20, 67], [67, 49], [49, 67], [67, 8], [8, 67], [67, 57], [57, 67], [57, 11], [11, 57], [11, 24], [24, 11], [11, 73], [73, 11], [73, 62], [62, 73], [62, 28], [28, 62], [28, 52], [52, 28], [52, 48], [48, 52], [48, 90], [90, 48], [90, 95], [95, 90], [95, 27], [27, 95], [27, 98], [98, 27], [98, 10], [10, 98], [10, 65], [65, 10], [10, 58], [58, 10], [95, 7], [7, 95], [10, 21], [21, 10], [90, 32], [32, 90], [21, 38], [38, 21], [21, 80], [80, 21], [90, 7], [7, 90], [21, 74], [74, 21], [74, 60], [60, 74], [48, 7], [7, 48], [60, 31], [31, 60], [80, 31], [31, 80], [38, 31], [31, 38], [65, 31], [31, 65], [58, 31], [31, 58], [38, 22], [22, 38], [58, 22], [22, 58], [95, 31], [31, 95], [21, 76], [76, 21], [76, 89], [89, 76], [90, 31], [31, 90], [48, 31], [31, 48], [7, 22], [22, 7], [22, 31], [31, 22], [22, 43], [43, 22], [7, 43], [43, 7], [22, 17], [17, 22], [7, 17], [17, 7], [28, 92], [92, 28], [22, 68], [68, 22], [89, 66], [66, 89], [89, 101], [101, 89], [76, 101], [101, 76], [89, 59], [59, 89], [76, 59], [59, 76], [73, 68], [68, 73], [31, 56], [56, 31], [68, 24], [24, 68], [73, 86], [86, 73], [86, 56], [56, 86], [73, 91], [91, 73], [86, 97], [97, 86], [62, 25], [25, 62], [56, 55], [55, 56], [62, 13], [13, 62], [56, 94], [94, 56], [86, 55], [55, 86], [86, 94], [94, 86], [56, 14], [14, 56], [56, 37], [37, 56], [56, 46], [46, 56], [68, 94], [94, 68], [86, 46], [46, 86], [56, 64], [64, 56], [73, 55], [55, 73], [73, 3], [3, 73], [73, 94], [94, 73], [94, 55], [55, 94], [24, 55], [55, 24], [94, 46], [46, 94], [46, 55], [55, 46], [55, 37], [37, 55], [55, 14], [14, 55], [46, 14], [14, 46], [55, 84], [84, 55], [46, 84], [84, 46], [55, 64], [64, 55], [46, 64], [64, 46], [91, 35], [35, 91], [46, 23], [23, 46], [23, 37], [37, 23], [37, 101], [101, 37], [37, 59], [59, 37], [59, 101], [101, 59], [59, 82], [82, 59], [59, 66], [66, 59], [59, 14], [14, 59], [14, 101], [101, 14], [59, 84], [84, 59], [84, 101], [101, 84], [59, 64], [64, 59], [59, 47], [47, 59], [84, 47], [47, 84], [37, 47], [47, 37], [64, 47], [47, 64], [59, 34], [34, 59], [23, 34], [34, 23], [14, 47], [47, 14], [84, 34], [34, 84], [37, 34], [34, 37], [64, 34], [34, 64], [14, 34], [34, 14], [84, 39], [39, 84], [23, 39], [39, 23], [64, 39], [39, 64], [46, 8], [8, 46], [3, 54], [54, 3], [46, 6], [6, 46], [23, 6], [6, 23], [13, 12], [12, 13], [23, 5], [5, 23], [11, 29], [29, 11], [11, 20], [20, 11], [23, 61], [61, 23], [23, 15], [15, 23], [35, 20], [20, 35], [54, 29], [29, 54], [54, 49], [49, 54], [35, 77], [77, 35], [54, 36], [36, 54], [36, 29], [29, 36], [54, 33], [33, 54], [33, 29], [29, 33], [35, 81], [81, 35], [0, 87], [87, 0], [12, 45], [45, 12], [20, 45], [45, 20], [77, 45], [45, 77], [67, 2], [2, 67], [2, 87], [87, 2], [57, 45], [45, 57], [67, 100], [100, 67], [57, 88], [88, 57], [36, 100], [100, 36], [81, 51], [51, 81], [51, 100], [100, 51], [51, 70], [70, 51], [2, 70], [70, 2], [0, 70], [70, 0], [67, 88], [88, 67], [36, 88], [88, 36], [51, 63], [63, 51], [63, 44], [44, 63], [44, 39], [39, 44], [44, 83], [83, 44], [44, 50], [50, 44], [44, 53], [53, 44], [44, 5], [5, 44], [44, 61], [61, 44], [44, 15], [15, 44], [44, 1], [1, 44], [63, 87], [87, 63], [44, 78], [78, 44], [63, 72], [72, 63], [63, 71], [71, 63], [44, 87], [87, 44], [63, 41], [41, 63], [41, 15], [15, 41], [41, 87], [87, 41], [41, 18], [18, 41], [41, 72], [72, 41], [72, 50], [50, 72], [72, 1], [1, 72], [72, 30], [30, 72], [30, 99], [99, 30], [99, 40], [40, 99], [40, 82], [82, 40], [40, 4], [4, 40], [40, 26], [26, 40], [40, 96], [96, 40], [40, 79], [79, 40], [40, 75], [75, 40], [40, 34], [34, 40], [40, 69], [69, 40], [69, 82], [82, 69], [69, 26], [26, 69], [69, 4], [4, 69], [69, 96], [96, 69], [69, 79], [79, 69], [69, 75], [75, 69], [69, 34], [34, 69], [40, 42], [42, 40], [42, 4], [4, 42], [42, 79], [79, 42], [42, 75], [75, 42], [42, 34], [34, 42], [40, 85], [85, 40], [69, 85], [85, 69], [40, 19], [19, 40], [42, 85], [85, 42], [40, 83], [83, 40], [69, 83], [83, 69], [42, 83], [83, 42], [99, 85], [85, 99], [19, 85], [85, 19], [99, 39], [39, 99], [99, 83], [83, 99], [19, 83], [83, 19], [30, 93], [93, 30], [93, 85], [85, 93], [93, 83], [83, 93], [30, 50], [50, 30], [30, 53], [53, 30], [93, 50], [50, 93], [30, 1], [1, 30]]}\n"
     ]
    },
    {
     "data": {
      "text/plain": [
       "<Figure size 640x480 with 0 Axes>"
      ]
     },
     "metadata": {},
     "output_type": "display_data"
    },
    {
     "data": {
      "image/png": "[encoded data removed]",
      "text/plain": [
       "<Figure size 400x400 with 1 Axes>"
      ]
     },
     "metadata": {},
     "output_type": "display_data"
    }
   ],
   "source": [
    "i = np.argmax(c_explores)\n",
    "env.init_new_problem(i)\n",
    "edges = results[i]['data'].v[np.array(results[i]['explored_edges']).reshape(-1)].reshape(-1, 2, 2)\n",
    "edges = [[tuple(k), tuple(v)] for k, v in zip(edges[:, 0, :].cpu().numpy(), edges[:, 1, :].cpu().numpy())]\n",
    "# print(results[i])\n",
    "# print(results[i]['smooth_path'])\n",
    "plot_optimization_edges(results[i]['smooth_path'], edges, env.get_problem(), \\\n",
    "           title='{0:d} collision checks'.format(results[i]['c_explore']), \\\n",
    "           save=None)\n",
    "plt.show()"
   ]
  }
 ],
 "metadata": {
  "kernelspec": {
   "display_name": "Python 3.8.13 ('gnnmp')",
   "language": "python",
   "name": "python3"
  },
  "language_info": {
   "codemirror_mode": {
    "name": "ipython",
    "version": 3
   },
   "file_extension": ".py",
   "mimetype": "text/x-python",
   "name": "python",
   "nbconvert_exporter": "python",
   "pygments_lexer": "ipython3",
   "version": "3.8.13"
  },
  "vscode": {
   "interpreter": {
    "hash": "53dfe34765113b3b2409c8f4a9b63bf9153a9ae9765388eedf6846bc592613e5"
   }
  }
 },
 "nbformat": 4,
 "nbformat_minor": 5
}
