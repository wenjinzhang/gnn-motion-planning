{
 "cells": [
  {
   "cell_type": "markdown",
   "id": "2387fd14-4744-495b-9767-c975a056e0e2",
   "metadata": {
    "tags": []
   },
   "source": [
    "# Advanced"
   ]
  },
  {
   "cell_type": "markdown",
   "id": "05521eff-ed8e-45da-9f97-2a74dd640f25",
   "metadata": {},
   "source": [
    "## Generate New Dataset"
   ]
  },
  {
   "cell_type": "code",
   "execution_count": 2,
   "id": "f7e37378-4598-4334-877d-6633d1061ae1",
   "metadata": {},
   "outputs": [
    {
     "name": "stderr",
     "output_type": "stream",
     "text": [
      "len of new data: 9:   0%|          | 33/10000000 [00:00<23:20:42, 118.99it/s]\n"
     ]
    }
   ],
   "source": [
    "from diversify_maze import find_mazes, INFINITY\n",
    "import numpy as np\n",
    "# generate 1000 test cases\n",
    "maps, init_states, goal_states = find_mazes(10, density=[100, 150], dist2goal_threshold=1)\n",
    "np.savez('maze_files/mazes_new_dataset.npz', maps=maps, goal_states=goal_states, init_states=init_states)"
   ]
  },
  {
   "cell_type": "markdown",
   "id": "4927f646-9be8-4b59-99b3-a044aeaf2902",
   "metadata": {},
   "source": [
    "## Test on New Environment"
   ]
  },
  {
   "cell_type": "code",
   "execution_count": 3,
   "id": "56902222-0999-415a-9976-72ad8442defa",
   "metadata": {},
   "outputs": [
    {
     "name": "stderr",
     "output_type": "stream",
     "text": [
      "100%|██████████| 10/10 [00:01<00:00,  5.45it/s]\n"
     ]
    }
   ],
   "source": [
    "from tqdm import tqdm\n",
    "from config import set_random_seed\n",
    "from str2name import str2name\n",
    "import torch\n",
    "from eval_gnn import explore\n",
    "\n",
    "from environment import MazeEnv\n",
    "env = MazeEnv(dim=2, map_file='maze_files/mazes_new_dataset.npz')\n",
    "indexes = range(0, 1000)\n",
    "bs = 100  # only sample 100 points\n",
    "results = []\n",
    "\n",
    "_, model, model_path, model_s, model_s_path = str2name(str(env))\n",
    "model.load_state_dict(torch.load(model_path, map_location=torch.device(\"cpu\")))\n",
    "model_s.load_state_dict(torch.load(model_s_path, map_location=torch.device(\"cpu\")))\n",
    "model.eval()\n",
    "model_s.eval()\n",
    "\n",
    "for i in tqdm(range(10)):\n",
    "    \n",
    "    env.init_new_problem(i)\n",
    "    set_random_seed(1234)\n",
    "    _, model, model_path, model_s, model_s_path = str2name(str(env))\n",
    "    result = explore(env, model, model_s, smooth=True, smoother='model', batch=bs, t_max=bs, k=10) \n",
    "    \n",
    "    results.append(result)"
   ]
  },
  {
   "cell_type": "code",
   "execution_count": 4,
   "id": "b8b0d10b",
   "metadata": {},
   "outputs": [
    {
     "name": "stdout",
     "output_type": "stream",
     "text": [
      "<class 'dict'>\n",
      "c_explore\n",
      "c_smooth\n",
      "data\n",
      "explored\n",
      "forward\n",
      "total\n",
      "total_explore\n",
      "success\n",
      "t0\n",
      "path\n",
      "smooth_path\n",
      "explored_edges\n",
      "[array([ 0.524215  , -0.28800946], dtype=float32), array([ 0.28182563, -0.33998522], dtype=float32), array([ 0.23358515, -0.76097214], dtype=float32), array([-0.03389425, -0.7493368 ], dtype=float32), array([-0.04982259, -0.71249044], dtype=float32), array([-0.11323902, -0.5720148 ], dtype=float32), array([-0.3039824 , -0.63482255], dtype=float32), array([-0.22429529, -0.85997736], dtype=float32), array([-0.22805455, -0.8604931 ], dtype=float32), array([-0.8650893, -0.7613843], dtype=float32)]\n"
     ]
    }
   ],
   "source": [
    "print(type(results[0]))\n",
    "one_solution = results[1]\n",
    "\n",
    "for key in one_solution:\n",
    "    print(key)\n",
    "\n",
    "print(one_solution[\"smooth_path\"])\n"
   ]
  },
  {
   "cell_type": "code",
   "execution_count": 5,
   "id": "dc566b02-f162-4104-afdc-9c5cb2ca1fee",
   "metadata": {},
   "outputs": [],
   "source": [
    "# get the collision numbers\n",
    "c_explores = [r['c_explore'] for r in results]"
   ]
  },
  {
   "cell_type": "code",
   "execution_count": 8,
   "id": "85e6f7f9-7645-47d5-8666-d484986279bd",
   "metadata": {
    "tags": []
   },
   "outputs": [
    {
     "data": {
      "text/plain": [
       "<Figure size 640x480 with 0 Axes>"
      ]
     },
     "metadata": {},
     "output_type": "display_data"
    },
    {
     "data": {
      "image/png": "[encoded data removed]",
      "text/plain": [
       "<Figure size 400x400 with 1 Axes>"
      ]
     },
     "metadata": {},
     "output_type": "display_data"
    }
   ],
   "source": [
    "%matplotlib inline\n",
    "import matplotlib.pyplot as plt\n",
    "from utils.plot import plot_edges\n",
    "i = np.argmin(c_explores)\n",
    "env.init_new_problem(i)\n",
    "edges = results[i]['data'].v[ np.array(results[i]['explored_edges']).reshape(-1) ].reshape(-1, 2, 2)\n",
    "edges = [[tuple(k), tuple(v)] for k, v in zip(edges[:, 0, :].cpu().numpy(), edges[:, 1, :].cpu().numpy())]\n",
    "plot_optimization_edges(results[i]['smooth_path'], edges, env.get_problem(), \\\n",
    "           title='{0:d} collision checks'.format(results[i]['c_explore']), \\\n",
    "           save=None)\n",
    "plt.show()"
   ]
  },
  {
   "cell_type": "code",
   "execution_count": 9,
   "id": "98755ec3",
   "metadata": {},
   "outputs": [
    {
     "name": "stdout",
     "output_type": "stream",
     "text": [
      "[ 0  0  0 95 95  0 95 38 38 95 38  1  1 38 38 93 93 38 38 23 23 38 38  2\n",
      "  2 38 38 76 76 38 38 71 71 38 38 66 66 38 66 59 59 66 66 36 36 66 66 79\n",
      " 79 66 66 82 82 66 66  1  1 66 66 46 46 66 46 59 59 46 46 36 36 46 46 79\n",
      " 79 46 79 80 80 79 79 59 59 79 79  1  1 79]\n",
      "tensor([[-0.4691, -0.7871],\n",
      "        [-0.4691, -0.7871],\n",
      "        [-0.4691, -0.7871],\n",
      "        [-0.0339, -0.7493],\n",
      "        [-0.0339, -0.7493],\n",
      "        [-0.4691, -0.7871],\n",
      "        [-0.0339, -0.7493],\n",
      "        [ 0.2818, -0.7476],\n",
      "        [ 0.2818, -0.7476],\n",
      "        [-0.0339, -0.7493],\n",
      "        [ 0.2818, -0.7476],\n",
      "        [ 0.5925, -0.4719],\n",
      "        [ 0.5925, -0.4719],\n",
      "        [ 0.2818, -0.7476],\n",
      "        [ 0.2818, -0.7476],\n",
      "        [ 0.8215, -0.5256],\n",
      "        [ 0.8215, -0.5256],\n",
      "        [ 0.2818, -0.7476],\n",
      "        [ 0.2818, -0.7476],\n",
      "        [ 0.7581, -0.4948],\n",
      "        [ 0.7581, -0.4948],\n",
      "        [ 0.2818, -0.7476],\n",
      "        [ 0.2818, -0.7476],\n",
      "        [ 0.5600, -0.4548],\n",
      "        [ 0.5600, -0.4548],\n",
      "        [ 0.2818, -0.7476],\n",
      "        [ 0.2818, -0.7476],\n",
      "        [ 0.8601, -0.6306],\n",
      "        [ 0.8601, -0.6306],\n",
      "        [ 0.2818, -0.7476],\n",
      "        [ 0.2818, -0.7476],\n",
      "        [ 0.5664, -0.7097],\n",
      "        [ 0.5664, -0.7097],\n",
      "        [ 0.2818, -0.7476],\n",
      "        [ 0.2818, -0.7476],\n",
      "        [ 0.2818, -0.3400],\n",
      "        [ 0.2818, -0.3400],\n",
      "        [ 0.2818, -0.7476],\n",
      "        [ 0.2818, -0.3400],\n",
      "        [ 0.3847, -0.0553],\n",
      "        [ 0.3847, -0.0553],\n",
      "        [ 0.2818, -0.3400],\n",
      "        [ 0.2818, -0.3400],\n",
      "        [ 0.2456, -0.0126],\n",
      "        [ 0.2456, -0.0126],\n",
      "        [ 0.2818, -0.3400],\n",
      "        [ 0.2818, -0.3400],\n",
      "        [ 0.5649, -0.3654],\n",
      "        [ 0.5649, -0.3654],\n",
      "        [ 0.2818, -0.3400],\n",
      "        [ 0.2818, -0.3400],\n",
      "        [ 0.1730, -0.0143],\n",
      "        [ 0.1730, -0.0143],\n",
      "        [ 0.2818, -0.3400],\n",
      "        [ 0.2818, -0.3400],\n",
      "        [ 0.5925, -0.4719],\n",
      "        [ 0.5925, -0.4719],\n",
      "        [ 0.2818, -0.3400],\n",
      "        [ 0.2818, -0.3400],\n",
      "        [ 0.2606, -0.2581],\n",
      "        [ 0.2606, -0.2581],\n",
      "        [ 0.2818, -0.3400],\n",
      "        [ 0.2606, -0.2581],\n",
      "        [ 0.3847, -0.0553],\n",
      "        [ 0.3847, -0.0553],\n",
      "        [ 0.2606, -0.2581],\n",
      "        [ 0.2606, -0.2581],\n",
      "        [ 0.2456, -0.0126],\n",
      "        [ 0.2456, -0.0126],\n",
      "        [ 0.2606, -0.2581],\n",
      "        [ 0.2606, -0.2581],\n",
      "        [ 0.5649, -0.3654],\n",
      "        [ 0.5649, -0.3654],\n",
      "        [ 0.2606, -0.2581],\n",
      "        [ 0.5649, -0.3654],\n",
      "        [ 0.6366,  0.0151],\n",
      "        [ 0.6366,  0.0151],\n",
      "        [ 0.5649, -0.3654],\n",
      "        [ 0.5649, -0.3654],\n",
      "        [ 0.3847, -0.0553],\n",
      "        [ 0.3847, -0.0553],\n",
      "        [ 0.5649, -0.3654],\n",
      "        [ 0.5649, -0.3654],\n",
      "        [ 0.5925, -0.4719],\n",
      "        [ 0.5925, -0.4719],\n",
      "        [ 0.5649, -0.3654]], device='cuda:0')\n"
     ]
    }
   ],
   "source": [
    "print(np.array(results[i]['explored_edges']).reshape(-1))\n",
    "print(results[i]['data'].v[np.array(results[i]['explored_edges']).reshape(-1)])"
   ]
  },
  {
   "cell_type": "code",
   "execution_count": 10,
   "id": "84434644-2622-49da-a309-381717300320",
   "metadata": {},
   "outputs": [
    {
     "data": {
      "text/plain": [
       "<Figure size 640x480 with 0 Axes>"
      ]
     },
     "metadata": {},
     "output_type": "display_data"
    },
    {
     "data": {
      "image/png": "[encoded data removed]",
      "text/plain": [
       "<Figure size 400x400 with 1 Axes>"
      ]
     },
     "metadata": {},
     "output_type": "display_data"
    }
   ],
   "source": [
    "i = np.argmax(c_explores)\n",
    "env.init_new_problem(i)\n",
    "edges = results[i]['data'].v[np.array(results[i]['explored_edges']).reshape(-1)].reshape(-1, 2, 2)\n",
    "edges = [[tuple(k), tuple(v)] for k, v in zip(edges[:, 0, :].cpu().numpy(), edges[:, 1, :].cpu().numpy())]\n",
    "# print(results[i])\n",
    "# print(results[i]['smooth_path'])\n",
    "plot_optimization_edges(results[i]['smooth_path'], edges, env.get_problem(), \\\n",
    "           title='{0:d} collision checks'.format(results[i]['c_explore']), \\\n",
    "           save=None)\n",
    "plt.show()"
   ]
  }
 ],
 "metadata": {
  "kernelspec": {
   "display_name": "Python 3.8.13 ('gnnmp')",
   "language": "python",
   "name": "python3"
  },
  "language_info": {
   "codemirror_mode": {
    "name": "ipython",
    "version": 3
   },
   "file_extension": ".py",
   "mimetype": "text/x-python",
   "name": "python",
   "nbconvert_exporter": "python",
   "pygments_lexer": "ipython3",
   "version": "3.8.13"
  },
  "vscode": {
   "interpreter": {
    "hash": "53dfe34765113b3b2409c8f4a9b63bf9153a9ae9765388eedf6846bc592613e5"
   }
  }
 },
 "nbformat": 4,
 "nbformat_minor": 5
}
