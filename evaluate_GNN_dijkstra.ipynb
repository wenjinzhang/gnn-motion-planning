{
 "cells": [
  {
   "cell_type": "markdown",
   "id": "3ece30ba-ae24-4063-b8c2-6b9330c4ca20",
   "metadata": {},
   "source": [
    "# Basic Usage"
   ]
  },
  {
   "cell_type": "markdown",
   "id": "45678be0-6b31-4c6c-9ab4-ed7ad2761123",
   "metadata": {},
   "source": [
    "## Evaluation"
   ]
  },
  {
   "cell_type": "code",
   "execution_count": 22,
   "id": "53185bf1-6501-4f3a-a051-bb3608da0754",
   "metadata": {},
   "outputs": [],
   "source": [
    "from eval_gnn import explore_v2, path_cost\n",
    "from str2env import str2env\n",
    "from config import set_random_seed\n",
    "from str2name import str2name\n",
    "import torch\n",
    "from tqdm import tqdm as tqdm\n",
    "import numpy as np"
   ]
  },
  {
   "cell_type": "code",
   "execution_count": 23,
   "id": "ad640646",
   "metadata": {},
   "outputs": [],
   "source": [
    "def eval_gnn(str, seed, env, indexes, model=None, model_s=None, use_tqdm=False, smooth=True, batch=500, t_max=500, k=30,\n",
    "             **kwargs):\n",
    "    set_random_seed(seed)\n",
    "    if model is None:\n",
    "        _, model, model_path, _, _ = str2name(str)\n",
    "        model.load_state_dict(torch.load(model_path, map_location=torch.device(\"cpu\")))\n",
    "    if model_s is None:\n",
    "        _, _, _, model_s, model_s_path = str2name(str)\n",
    "        model_s.load_state_dict(torch.load(model_s_path, map_location=torch.device(\"cpu\")))\n",
    "\n",
    "    solutions = []\n",
    "    paths = []\n",
    "    smooth_paths = []\n",
    "    model.eval()\n",
    "    model_s.eval()\n",
    "\n",
    "    pbar = tqdm(indexes) if use_tqdm else indexes\n",
    "    for index in pbar:\n",
    "\n",
    "        env.init_new_problem(index)\n",
    "        result = explore_v2(env, model, model_s, smooth, batch=batch, t_max=t_max, k=k, **kwargs)\n",
    "\n",
    "        paths.append(result['path'])\n",
    "        smooth_paths.append(result['smooth_path'])\n",
    "        solutions.append(\n",
    "            (result['success'], path_cost(result['path']), path_cost(result['smooth_path']),\n",
    "             result['c_explore'], result['c_smooth'], result['total'], result['total_explore'], path_cost(result['optim_path'])))\n",
    "\n",
    "        # if use_tqdm:\n",
    "        #     pbar.set_description(\"gnn %.2fs, search %.2fs, explored %d\" %\n",
    "        #                          (result['forward'], result['total'] - result['forward'], len(result['explored'])))\n",
    "\n",
    "    n_success = sum([s[0] for s in solutions])\n",
    "    collision_explore = np.mean([s[3] for s in solutions])\n",
    "    collision = np.mean([(s[3] + s[4]) for s in solutions])\n",
    "    running_time = float(sum([s[5] for s in solutions if s[0]])) / n_success\n",
    "    gnnonly__cost = float(sum([(s[1]) for s in solutions if s[0]])) / n_success\n",
    "    smooth__cost = float(sum([(s[2]) for s in solutions if s[0]])) / n_success\n",
    "    optimal_cost = float(sum([(s[7]) for s in solutions if s[0]])) / n_success\n",
    "    # total_time = sum([s[5] for s in solutions])\n",
    "    # total_time_explore = sum([s[6] for s in solutions])\n",
    "\n",
    "    print('success rate:', n_success)\n",
    "    print('collision check: %.2f' % collision)\n",
    "    print('collision check explore: %.2f' % collision_explore)\n",
    "    print('running time: %.2f' % running_time)\n",
    "    print('gnn_only path cost: %.2f' % gnnonly__cost)\n",
    "    print('smooth path cost: %.2f' % smooth__cost)\n",
    "    print('optimal path cost: %.2f' % optimal_cost)\n",
    "    # print('total time: %.2f' % total_time)\n",
    "    # print('total time explore: %.2f' % total_time_explore)\n",
    "    print('')"
   ]
  },
  {
   "cell_type": "code",
   "execution_count": 24,
   "id": "dc2236d9-7fe9-40d6-bda7-e10e803ff792",
   "metadata": {},
   "outputs": [
    {
     "name": "stderr",
     "output_type": "stream",
     "text": [
      "100%|██████████| 1000/1000 [45:42<00:00,  2.74s/it] "
     ]
    },
    {
     "name": "stdout",
     "output_type": "stream",
     "text": [
      "success rate: 1000\n",
      "collision check: 12233.73\n",
      "collision check explore: 2215.06\n",
      "running time: 2.74\n",
      "gnn_only path cost: 2.48\n",
      "smooth path cost: 2.17\n",
      "optimal path cost: 2.23\n",
      "\n"
     ]
    },
    {
     "name": "stderr",
     "output_type": "stream",
     "text": [
      "\n"
     ]
    }
   ],
   "source": [
    "# evaluation on the test cases\n",
    "env, indexes = str2env('maze2hard')  # choose env among ('maze2easy', 'maze2hard', 'kuka7', 'ur5', 'snake7', 'kuka13', 'kuka14')\n",
    "# evaluation with GNN\n",
    "_ = eval_gnn(str(env), 1234, env=env, indexes=indexes, smooth=True, use_tqdm=True)"
   ]
  },
  {
   "cell_type": "code",
   "execution_count": 9,
   "id": "652d3ed6",
   "metadata": {},
   "outputs": [
    {
     "name": "stdout",
     "output_type": "stream",
     "text": [
      "10\n"
     ]
    }
   ],
   "source": [
    "print(len(indexes[:10]))"
   ]
  }
 ],
 "metadata": {
  "kernelspec": {
   "display_name": "Python 3.8.13 ('gnnmp')",
   "language": "python",
   "name": "python3"
  },
  "language_info": {
   "codemirror_mode": {
    "name": "ipython",
    "version": 3
   },
   "file_extension": ".py",
   "mimetype": "text/x-python",
   "name": "python",
   "nbconvert_exporter": "python",
   "pygments_lexer": "ipython3",
   "version": "3.8.13"
  },
  "vscode": {
   "interpreter": {
    "hash": "53dfe34765113b3b2409c8f4a9b63bf9153a9ae9765388eedf6846bc592613e5"
   }
  }
 },
 "nbformat": 4,
 "nbformat_minor": 5
}
