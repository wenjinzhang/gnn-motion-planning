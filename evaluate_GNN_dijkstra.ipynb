{
 "cells": [
  {
   "cell_type": "markdown",
   "id": "3ece30ba-ae24-4063-b8c2-6b9330c4ca20",
   "metadata": {},
   "source": [
    "# Basic Usage"
   ]
  },
  {
   "cell_type": "markdown",
   "id": "45678be0-6b31-4c6c-9ab4-ed7ad2761123",
   "metadata": {},
   "source": [
    "## Evaluation"
   ]
  },
  {
   "cell_type": "code",
   "execution_count": 1,
   "id": "53185bf1-6501-4f3a-a051-bb3608da0754",
   "metadata": {},
   "outputs": [
    {
     "name": "stderr",
     "output_type": "stream",
     "text": [
      "/home/wenjin/anaconda3/envs/gnnmp/lib/python3.8/site-packages/tqdm/auto.py:22: TqdmWarning: IProgress not found. Please update jupyter and ipywidgets. See https://ipywidgets.readthedocs.io/en/stable/user_install.html\n",
      "  from .autonotebook import tqdm as notebook_tqdm\n",
      "pybullet build time: May 20 2022 19:44:17\n"
     ]
    }
   ],
   "source": [
    "from eval_gnn import explore_v2, path_cost\n",
    "from str2env import str2env\n",
    "from config import set_random_seed\n",
    "from str2name import str2name\n",
    "import torch\n",
    "from tqdm import tqdm as tqdm\n",
    "import numpy as np"
   ]
  },
  {
   "cell_type": "code",
   "execution_count": 2,
   "id": "ad640646",
   "metadata": {},
   "outputs": [],
   "source": [
    "def eval_gnn(str, seed, env, indexes, model=None, model_s=None, use_tqdm=False, smooth=True, batch=500, t_max=500, k=30,\n",
    "             **kwargs):\n",
    "    set_random_seed(seed)\n",
    "    if model is None:\n",
    "        _, model, model_path, _, _ = str2name(str)\n",
    "        model.load_state_dict(torch.load(model_path, map_location=torch.device(\"cpu\")))\n",
    "    if model_s is None:\n",
    "        _, _, _, model_s, model_s_path = str2name(str)\n",
    "        model_s.load_state_dict(torch.load(model_s_path, map_location=torch.device(\"cpu\")))\n",
    "\n",
    "    solutions = []\n",
    "    paths = []\n",
    "    smooth_paths = []\n",
    "    model.eval()\n",
    "    model_s.eval()\n",
    "\n",
    "    pbar = tqdm(indexes) if use_tqdm else indexes\n",
    "    for index in pbar:\n",
    "\n",
    "        env.init_new_problem(index)\n",
    "        result = explore_v2(env, model, model_s, smooth, batch=batch, t_max=t_max, k=k, **kwargs)\n",
    "\n",
    "        paths.append(result['path'])\n",
    "        smooth_paths.append(result['smooth_path'])\n",
    "        solutions.append(\n",
    "            (result['success'], path_cost(result['path']), path_cost(result['smooth_path']),\n",
    "             result['c_explore'], result['c_smooth'], result['total'], result['total_explore'], path_cost(result['optim_path'])))\n",
    "\n",
    "        # if use_tqdm:\n",
    "        #     pbar.set_description(\"gnn %.2fs, search %.2fs, explored %d\" %\n",
    "        #                          (result['forward'], result['total'] - result['forward'], len(result['explored'])))\n",
    "\n",
    "    n_success = sum([s[0] for s in solutions])\n",
    "    collision_explore = np.mean([s[3] for s in solutions])\n",
    "    collision = np.mean([(s[3] + s[4]) for s in solutions])\n",
    "    running_time = float(sum([s[5] for s in solutions if s[0]])) / n_success\n",
    "    gnnonly__cost = float(sum([(s[1]) for s in solutions if s[0]])) / n_success\n",
    "    smooth__cost = float(sum([(s[2]) for s in solutions if s[0]])) / n_success\n",
    "    optimal_cost = float(sum([(s[7]) for s in solutions if s[0]])) / n_success\n",
    "    # total_time = sum([s[5] for s in solutions])\n",
    "    # total_time_explore = sum([s[6] for s in solutions])\n",
    "\n",
    "    print('success rate:', n_success)\n",
    "    print('collision check: %.2f' % collision)\n",
    "    print('collision check explore: %.2f' % collision_explore)\n",
    "    print('running time: %.2f' % running_time)\n",
    "    print('gnn_only path cost: %.2f' % gnnonly__cost)\n",
    "    print('smooth path cost: %.2f' % smooth__cost)\n",
    "    print('optimal path cost: %.2f' % optimal_cost)\n",
    "    # print('total time: %.2f' % total_time)\n",
    "    # print('total time explore: %.2f' % total_time_explore)\n",
    "    print('')"
   ]
  },
  {
   "cell_type": "code",
   "execution_count": 4,
   "id": "dc2236d9-7fe9-40d6-bda7-e10e803ff792",
   "metadata": {},
   "outputs": [
    {
     "name": "stderr",
     "output_type": "stream",
     "text": [
      "  1%|          | 9/1000 [00:09<18:02,  1.09s/it]\n"
     ]
    },
    {
     "ename": "KeyboardInterrupt",
     "evalue": "",
     "output_type": "error",
     "traceback": [
      "\u001b[0;31m---------------------------------------------------------------------------\u001b[0m",
      "\u001b[0;31mKeyboardInterrupt\u001b[0m                         Traceback (most recent call last)",
      "Cell \u001b[0;32mIn [4], line 4\u001b[0m\n\u001b[1;32m      2\u001b[0m env, indexes \u001b[39m=\u001b[39m str2env(\u001b[39m'\u001b[39m\u001b[39msnake7\u001b[39m\u001b[39m'\u001b[39m)  \u001b[39m# choose env among ('maze2easy', 'maze2hard', 'kuka7', 'ur5', 'snake7', 'kuka13', 'kuka14')\u001b[39;00m\n\u001b[1;32m      3\u001b[0m \u001b[39m# evaluation with GNN\u001b[39;00m\n\u001b[0;32m----> 4\u001b[0m _ \u001b[39m=\u001b[39m eval_gnn(\u001b[39mstr\u001b[39;49m(env), \u001b[39m1234\u001b[39;49m, env\u001b[39m=\u001b[39;49menv, indexes\u001b[39m=\u001b[39;49mindexes, smooth\u001b[39m=\u001b[39;49m\u001b[39mTrue\u001b[39;49;00m, use_tqdm\u001b[39m=\u001b[39;49m\u001b[39mTrue\u001b[39;49;00m)\n",
      "Cell \u001b[0;32mIn [2], line 21\u001b[0m, in \u001b[0;36meval_gnn\u001b[0;34m(str, seed, env, indexes, model, model_s, use_tqdm, smooth, batch, t_max, k, **kwargs)\u001b[0m\n\u001b[1;32m     18\u001b[0m \u001b[39mfor\u001b[39;00m index \u001b[39min\u001b[39;00m pbar:\n\u001b[1;32m     20\u001b[0m     env\u001b[39m.\u001b[39minit_new_problem(index)\n\u001b[0;32m---> 21\u001b[0m     result \u001b[39m=\u001b[39m explore_v2(env, model, model_s, smooth, batch\u001b[39m=\u001b[39;49mbatch, t_max\u001b[39m=\u001b[39;49mt_max, k\u001b[39m=\u001b[39;49mk, \u001b[39m*\u001b[39;49m\u001b[39m*\u001b[39;49mkwargs)\n\u001b[1;32m     23\u001b[0m     paths\u001b[39m.\u001b[39mappend(result[\u001b[39m'\u001b[39m\u001b[39mpath\u001b[39m\u001b[39m'\u001b[39m])\n\u001b[1;32m     24\u001b[0m     smooth_paths\u001b[39m.\u001b[39mappend(result[\u001b[39m'\u001b[39m\u001b[39msmooth_path\u001b[39m\u001b[39m'\u001b[39m])\n",
      "File \u001b[0;32m~/anaconda3/envs/gnnmp/lib/python3.8/site-packages/torch/autograd/grad_mode.py:27\u001b[0m, in \u001b[0;36m_DecoratorContextManager.__call__.<locals>.decorate_context\u001b[0;34m(*args, **kwargs)\u001b[0m\n\u001b[1;32m     24\u001b[0m \u001b[39m@functools\u001b[39m\u001b[39m.\u001b[39mwraps(func)\n\u001b[1;32m     25\u001b[0m \u001b[39mdef\u001b[39;00m \u001b[39mdecorate_context\u001b[39m(\u001b[39m*\u001b[39margs, \u001b[39m*\u001b[39m\u001b[39m*\u001b[39mkwargs):\n\u001b[1;32m     26\u001b[0m     \u001b[39mwith\u001b[39;00m \u001b[39mself\u001b[39m\u001b[39m.\u001b[39mclone():\n\u001b[0;32m---> 27\u001b[0m         \u001b[39mreturn\u001b[39;00m func(\u001b[39m*\u001b[39;49margs, \u001b[39m*\u001b[39;49m\u001b[39m*\u001b[39;49mkwargs)\n",
      "File \u001b[0;32m~/dev/gnn-motion-planning/eval_gnn.py:321\u001b[0m, in \u001b[0;36mexplore_v2\u001b[0;34m(env, model, model_s, smooth, batch, t_max, k, smoother, loop)\u001b[0m\n\u001b[1;32m    319\u001b[0m n_batch \u001b[39m=\u001b[39m batch\n\u001b[1;32m    320\u001b[0m \u001b[39m#     n_batch = min(batch, t_max)\u001b[39;00m\n\u001b[0;32m--> 321\u001b[0m free, collided \u001b[39m=\u001b[39m env\u001b[39m.\u001b[39;49msample_n_points(n_batch, need_negative\u001b[39m=\u001b[39;49m\u001b[39mTrue\u001b[39;49;00m)\n\u001b[1;32m    322\u001b[0m collided \u001b[39m=\u001b[39m collided[:\u001b[39mlen\u001b[39m(free)]\n\u001b[1;32m    323\u001b[0m free \u001b[39m=\u001b[39m [env\u001b[39m.\u001b[39minit_state] \u001b[39m+\u001b[39m [env\u001b[39m.\u001b[39mgoal_state] \u001b[39m+\u001b[39m \u001b[39mlist\u001b[39m(free)\n",
      "File \u001b[0;32m~/dev/gnn-motion-planning/environment/snake_env.py:215\u001b[0m, in \u001b[0;36mSnakeEnv.sample_n_points\u001b[0;34m(self, n, need_negative)\u001b[0m\n\u001b[1;32m    213\u001b[0m \u001b[39mwhile\u001b[39;00m \u001b[39mTrue\u001b[39;00m:\n\u001b[1;32m    214\u001b[0m     sample \u001b[39m=\u001b[39m \u001b[39mself\u001b[39m\u001b[39m.\u001b[39muniform_sample()\n\u001b[0;32m--> 215\u001b[0m     \u001b[39mif\u001b[39;00m \u001b[39mself\u001b[39;49m\u001b[39m.\u001b[39;49m_point_in_free_space(sample):\n\u001b[1;32m    216\u001b[0m         samples\u001b[39m.\u001b[39mappend(sample)\n\u001b[1;32m    217\u001b[0m         \u001b[39mbreak\u001b[39;00m\n",
      "File \u001b[0;32m~/dev/gnn-motion-planning/environment/snake_env.py:357\u001b[0m, in \u001b[0;36mSnakeEnv._point_in_free_space\u001b[0;34m(self, state)\u001b[0m\n\u001b[1;32m    354\u001b[0m     \u001b[39mreturn\u001b[39;00m \u001b[39mFalse\u001b[39;00m\n\u001b[1;32m    356\u001b[0m \u001b[39mself\u001b[39m\u001b[39m.\u001b[39mcollision_check_count \u001b[39m+\u001b[39m\u001b[39m=\u001b[39m \u001b[39m1\u001b[39m\n\u001b[0;32m--> 357\u001b[0m free \u001b[39m=\u001b[39m \u001b[39mself\u001b[39;49m\u001b[39m.\u001b[39;49mset_config(state)\n\u001b[1;32m    358\u001b[0m \u001b[39mreturn\u001b[39;00m free\n",
      "File \u001b[0;32m~/dev/gnn-motion-planning/environment/snake_env.py:122\u001b[0m, in \u001b[0;36mSnakeEnv.set_config\u001b[0;34m(self, config, snakeId, sphereRadius)\u001b[0m\n\u001b[1;32m    120\u001b[0m     snakeId \u001b[39m=\u001b[39m \u001b[39mself\u001b[39m\u001b[39m.\u001b[39msnakeId\n\u001b[1;32m    121\u001b[0m mazeIds \u001b[39m=\u001b[39m \u001b[39mself\u001b[39m\u001b[39m.\u001b[39mmazeIds\n\u001b[0;32m--> 122\u001b[0m p\u001b[39m.\u001b[39;49mresetBaseVelocity(snakeId, [\u001b[39m0\u001b[39;49m, \u001b[39m0\u001b[39;49m, \u001b[39m0\u001b[39;49m], [\u001b[39m0\u001b[39;49m, \u001b[39m0\u001b[39;49m, \u001b[39m0\u001b[39;49m])\n\u001b[1;32m    124\u001b[0m quat \u001b[39m=\u001b[39m transforms3d\u001b[39m.\u001b[39meuler\u001b[39m.\u001b[39meuler2quat(\u001b[39m0\u001b[39m, \u001b[39m0\u001b[39m, config[\u001b[39m3\u001b[39m])\n\u001b[1;32m    125\u001b[0m p\u001b[39m.\u001b[39mresetBasePositionAndOrientation(snakeId, \u001b[39mlist\u001b[39m(config[:\u001b[39m2\u001b[39m]) \u001b[39m+\u001b[39m [SnakeEnv\u001b[39m.\u001b[39mheight], np\u001b[39m.\u001b[39mconcatenate((quat[\u001b[39m1\u001b[39m:], quat[\u001b[39m0\u001b[39m]\u001b[39m.\u001b[39mreshape(\u001b[39m1\u001b[39m))))\n",
      "\u001b[0;31mKeyboardInterrupt\u001b[0m: "
     ]
    }
   ],
   "source": [
    "# evaluation on the test cases\n",
    "env, indexes = str2env('snake7')  # choose env among ('maze2easy', 'maze2hard', 'kuka7', 'ur5', 'snake7', 'kuka13', 'kuka14')\n",
    "# evaluation with GNN\n",
    "_ = eval_gnn(str(env), 1234, env=env, indexes=indexes[:20], smooth=True, use_tqdm=True)"
   ]
  },
  {
   "cell_type": "code",
   "execution_count": null,
   "id": "652d3ed6",
   "metadata": {},
   "outputs": [
    {
     "ename": "",
     "evalue": "",
     "output_type": "error",
     "traceback": [
      "\u001b[1;31mRunning cells with '/usr/bin/python3' requires ipykernel package.\n",
      "\u001b[1;31mRun the following command to install 'ipykernel' into the Python environment. \n",
      "\u001b[1;31mCommand: '/usr/bin/python3 -m pip install ipykernel -U --user --force-reinstall'"
     ]
    }
   ],
   "source": [
    "print(len(indexes[:10]))"
   ]
  }
 ],
 "metadata": {
  "kernelspec": {
   "display_name": "gnnmp",
   "language": "python",
   "name": "python3"
  },
  "language_info": {
   "codemirror_mode": {
    "name": "ipython",
    "version": 3
   },
   "file_extension": ".py",
   "mimetype": "text/x-python",
   "name": "python",
   "nbconvert_exporter": "python",
   "pygments_lexer": "ipython3",
   "version": "3.8.13"
  },
  "vscode": {
   "interpreter": {
    "hash": "53dfe34765113b3b2409c8f4a9b63bf9153a9ae9765388eedf6846bc592613e5"
   }
  }
 },
 "nbformat": 4,
 "nbformat_minor": 5
}
