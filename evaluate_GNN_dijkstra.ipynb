{
 "cells": [
  {
   "cell_type": "markdown",
   "id": "3ece30ba-ae24-4063-b8c2-6b9330c4ca20",
   "metadata": {},
   "source": [
    "# Basic Usage"
   ]
  },
  {
   "cell_type": "markdown",
   "id": "45678be0-6b31-4c6c-9ab4-ed7ad2761123",
   "metadata": {},
   "source": [
    "## Evaluation"
   ]
  },
  {
   "cell_type": "code",
   "execution_count": 1,
   "id": "53185bf1-6501-4f3a-a051-bb3608da0754",
   "metadata": {},
   "outputs": [
    {
     "name": "stderr",
     "output_type": "stream",
     "text": [
      "/home/wenjin/anaconda3/envs/gnnmp/lib/python3.8/site-packages/tqdm/auto.py:22: TqdmWarning: IProgress not found. Please update jupyter and ipywidgets. See https://ipywidgets.readthedocs.io/en/stable/user_install.html\n",
      "  from .autonotebook import tqdm as notebook_tqdm\n",
      "pybullet build time: May 20 2022 19:44:17\n"
     ]
    }
   ],
   "source": [
    "from eval_gnn import explore_v2, path_cost\n",
    "from str2env import str2env\n",
    "from config import set_random_seed\n",
    "from str2name import str2name\n",
    "import torch\n",
    "from tqdm import tqdm as tqdm\n",
    "import numpy as np"
   ]
  },
  {
   "cell_type": "code",
   "execution_count": 2,
   "id": "ad640646",
   "metadata": {},
   "outputs": [],
   "source": [
    "def eval_gnn(str, seed, env, indexes, model=None, model_s=None, use_tqdm=False, smooth=True, batch=500, t_max=500, k=30,\n",
    "             **kwargs):\n",
    "    set_random_seed(seed)\n",
    "    if model is None:\n",
    "        _, model, model_path, _, _ = str2name(str)\n",
    "        model.load_state_dict(torch.load(model_path, map_location=torch.device(\"cpu\")))\n",
    "    if model_s is None:\n",
    "        _, _, _, model_s, model_s_path = str2name(str)\n",
    "        model_s.load_state_dict(torch.load(model_s_path, map_location=torch.device(\"cpu\")))\n",
    "\n",
    "    solutions = []\n",
    "    paths = []\n",
    "    smooth_paths = []\n",
    "    model.eval()\n",
    "    model_s.eval()\n",
    "\n",
    "    pbar = tqdm(indexes) if use_tqdm else indexes\n",
    "    for index in pbar:\n",
    "\n",
    "        env.init_new_problem(index)\n",
    "        result = explore_v2(env, model, model_s, smooth, batch=batch, t_max=t_max, k=k, **kwargs)\n",
    "\n",
    "        paths.append(result['path'])\n",
    "        smooth_paths.append(result['smooth_path'])\n",
    "        solutions.append(\n",
    "            (result['success'], path_cost(result['path']), path_cost(result['smooth_path']),\n",
    "             result['c_explore'], result['c_smooth'], result['total'], result['total_explore'], path_cost(result['optim_path'])))\n",
    "\n",
    "        # if use_tqdm:\n",
    "        #     pbar.set_description(\"gnn %.2fs, search %.2fs, explored %d\" %\n",
    "        #                          (result['forward'], result['total'] - result['forward'], len(result['explored'])))\n",
    "\n",
    "    n_success = sum([s[0] for s in solutions])\n",
    "    collision_explore = np.mean([s[3] for s in solutions])\n",
    "    collision = np.mean([(s[3] + s[4]) for s in solutions])\n",
    "    running_time = float(sum([s[5] for s in solutions if s[0]])) / n_success\n",
    "    gnnonly__cost = float(sum([(s[1]) for s in solutions if s[0]])) / n_success\n",
    "    smooth__cost = float(sum([(s[2]) for s in solutions if s[0]])) / n_success\n",
    "    optimal_cost = float(sum([(s[7]) for s in solutions if s[0]])) / n_success\n",
    "    # total_time = sum([s[5] for s in solutions])\n",
    "    # total_time_explore = sum([s[6] for s in solutions])\n",
    "\n",
    "    print('success rate:', n_success)\n",
    "    print('collision check: %.2f' % collision)\n",
    "    print('collision check explore: %.2f' % collision_explore)\n",
    "    print('running time: %.2f' % running_time)\n",
    "    print('gnn_only path cost: %.2f' % gnnonly__cost)\n",
    "    print('smooth path cost: %.2f' % smooth__cost)\n",
    "    print('optimal path cost: %.2f' % optimal_cost)\n",
    "    # print('total time: %.2f' % total_time)\n",
    "    # print('total time explore: %.2f' % total_time_explore)\n",
    "    print('')\n",
    "    return solutions"
   ]
  },
  {
   "cell_type": "code",
   "execution_count": 3,
   "id": "dc2236d9-7fe9-40d6-bda7-e10e803ff792",
   "metadata": {},
   "outputs": [
    {
     "name": "stderr",
     "output_type": "stream",
     "text": [
      "  5%|▌         | 1/20 [00:03<01:04,  3.37s/it]"
     ]
    },
    {
     "name": "stdout",
     "output_type": "stream",
     "text": [
      "explore 1.5 edges\n"
     ]
    },
    {
     "name": "stderr",
     "output_type": "stream",
     "text": [
      " 10%|█         | 2/20 [00:04<00:32,  1.82s/it]"
     ]
    },
    {
     "name": "stdout",
     "output_type": "stream",
     "text": [
      "explore 1.5 edges\n"
     ]
    },
    {
     "name": "stderr",
     "output_type": "stream",
     "text": [
      " 15%|█▌        | 3/20 [00:04<00:20,  1.23s/it]"
     ]
    },
    {
     "name": "stdout",
     "output_type": "stream",
     "text": [
      "explore 1.5 edges\n"
     ]
    },
    {
     "name": "stderr",
     "output_type": "stream",
     "text": [
      " 20%|██        | 4/20 [00:04<00:13,  1.17it/s]"
     ]
    },
    {
     "name": "stdout",
     "output_type": "stream",
     "text": [
      "explore 1.5 edges\n",
      "explore 1.5 edges\n"
     ]
    },
    {
     "name": "stderr",
     "output_type": "stream",
     "text": [
      " 30%|███       | 6/20 [00:05<00:08,  1.67it/s]"
     ]
    },
    {
     "name": "stdout",
     "output_type": "stream",
     "text": [
      "explore 1.5 edges\n"
     ]
    },
    {
     "name": "stderr",
     "output_type": "stream",
     "text": [
      " 35%|███▌      | 7/20 [00:08<00:18,  1.42s/it]"
     ]
    },
    {
     "name": "stdout",
     "output_type": "stream",
     "text": [
      "explore 1.5 edges\n"
     ]
    },
    {
     "name": "stderr",
     "output_type": "stream",
     "text": [
      " 40%|████      | 8/20 [00:09<00:13,  1.16s/it]"
     ]
    },
    {
     "name": "stdout",
     "output_type": "stream",
     "text": [
      "explore 1.5 edges\n",
      "explore 4.5 edges\n"
     ]
    },
    {
     "name": "stderr",
     "output_type": "stream",
     "text": [
      " 50%|█████     | 10/20 [00:10<00:08,  1.19it/s]"
     ]
    },
    {
     "name": "stdout",
     "output_type": "stream",
     "text": [
      "explore 1.5 edges\n"
     ]
    },
    {
     "name": "stderr",
     "output_type": "stream",
     "text": [
      " 55%|█████▌    | 11/20 [00:11<00:07,  1.27it/s]"
     ]
    },
    {
     "name": "stdout",
     "output_type": "stream",
     "text": [
      "explore 1.5 edges\n"
     ]
    },
    {
     "name": "stderr",
     "output_type": "stream",
     "text": [
      " 60%|██████    | 12/20 [00:11<00:05,  1.47it/s]"
     ]
    },
    {
     "name": "stdout",
     "output_type": "stream",
     "text": [
      "explore 1.5 edges\n"
     ]
    },
    {
     "name": "stderr",
     "output_type": "stream",
     "text": [
      " 65%|██████▌   | 13/20 [00:12<00:04,  1.42it/s]"
     ]
    },
    {
     "name": "stdout",
     "output_type": "stream",
     "text": [
      "explore 1.5 edges\n"
     ]
    },
    {
     "name": "stderr",
     "output_type": "stream",
     "text": [
      " 70%|███████   | 14/20 [00:13<00:04,  1.36it/s]"
     ]
    },
    {
     "name": "stdout",
     "output_type": "stream",
     "text": [
      "explore 1.5 edges\n"
     ]
    },
    {
     "name": "stderr",
     "output_type": "stream",
     "text": [
      " 75%|███████▌  | 15/20 [00:13<00:03,  1.47it/s]"
     ]
    },
    {
     "name": "stdout",
     "output_type": "stream",
     "text": [
      "explore 1.5 edges\n"
     ]
    },
    {
     "name": "stderr",
     "output_type": "stream",
     "text": [
      " 80%|████████  | 16/20 [00:14<00:02,  1.63it/s]"
     ]
    },
    {
     "name": "stdout",
     "output_type": "stream",
     "text": [
      "explore 30.5 edges\n"
     ]
    },
    {
     "name": "stderr",
     "output_type": "stream",
     "text": [
      " 85%|████████▌ | 17/20 [00:15<00:02,  1.43it/s]"
     ]
    },
    {
     "name": "stdout",
     "output_type": "stream",
     "text": [
      "explore 1.5 edges\n"
     ]
    },
    {
     "name": "stderr",
     "output_type": "stream",
     "text": [
      " 90%|█████████ | 18/20 [00:15<00:01,  1.35it/s]"
     ]
    },
    {
     "name": "stdout",
     "output_type": "stream",
     "text": [
      "explore 1.5 edges\n"
     ]
    },
    {
     "name": "stderr",
     "output_type": "stream",
     "text": [
      " 95%|█████████▌| 19/20 [00:16<00:00,  1.53it/s]"
     ]
    },
    {
     "name": "stdout",
     "output_type": "stream",
     "text": [
      "explore 1.5 edges\n"
     ]
    },
    {
     "name": "stderr",
     "output_type": "stream",
     "text": [
      "100%|██████████| 20/20 [00:16<00:00,  1.19it/s]"
     ]
    },
    {
     "name": "stdout",
     "output_type": "stream",
     "text": [
      "explore 2.5 edges\n",
      "success rate: 20\n",
      "collision check: 7931.45\n",
      "collision check explore: 7566.35\n",
      "running time: 0.83\n",
      "gnn_only path cost: 4.14\n",
      "smooth path cost: 3.82\n",
      "optimal path cost: 4.14\n",
      "\n"
     ]
    },
    {
     "name": "stderr",
     "output_type": "stream",
     "text": [
      "\n"
     ]
    }
   ],
   "source": [
    "# evaluation on the test cases\n",
    "env, indexes = str2env('snake7')  # choose env among ('maze2easy', 'maze2hard', 'kuka7', 'ur5', 'snake7', 'kuka13', 'kuka14')\n",
    "# evaluation with GNN\n",
    "solutions = eval_gnn(str(env), 1234, env=env, indexes=indexes[:20], smooth=True, use_tqdm=True)"
   ]
  },
  {
   "cell_type": "code",
   "execution_count": 4,
   "id": "91d5cc4f",
   "metadata": {},
   "outputs": [
    {
     "name": "stdout",
     "output_type": "stream",
     "text": [
      "(True, 3.449504852294922, 3.449504852294922, 7003, 0, 0.71523118019104, 0.7055397033691406, 3.449504852294922)\n"
     ]
    }
   ],
   "source": [
    "print(solutions[1])"
   ]
  },
  {
   "cell_type": "code",
   "execution_count": 5,
   "id": "652d3ed6",
   "metadata": {},
   "outputs": [
    {
     "name": "stdout",
     "output_type": "stream",
     "text": [
      "10\n"
     ]
    }
   ],
   "source": [
    "print(len(indexes[:10]))"
   ]
  }
 ],
 "metadata": {
  "kernelspec": {
   "display_name": "gnnmp",
   "language": "python",
   "name": "python3"
  },
  "language_info": {
   "codemirror_mode": {
    "name": "ipython",
    "version": 3
   },
   "file_extension": ".py",
   "mimetype": "text/x-python",
   "name": "python",
   "nbconvert_exporter": "python",
   "pygments_lexer": "ipython3",
   "version": "3.8.13 (default, Oct 21 2022, 23:50:54) \n[GCC 11.2.0]"
  },
  "vscode": {
   "interpreter": {
    "hash": "53dfe34765113b3b2409c8f4a9b63bf9153a9ae9765388eedf6846bc592613e5"
   }
  }
 },
 "nbformat": 4,
 "nbformat_minor": 5
}
