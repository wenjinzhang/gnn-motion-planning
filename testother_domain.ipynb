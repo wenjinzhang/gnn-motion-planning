{
 "cells": [
  {
   "cell_type": "markdown",
   "id": "45678be0-6b31-4c6c-9ab4-ed7ad2761123",
   "metadata": {},
   "source": [
    "## import"
   ]
  },
  {
   "cell_type": "code",
   "execution_count": 1,
   "id": "53185bf1-6501-4f3a-a051-bb3608da0754",
   "metadata": {},
   "outputs": [
    {
     "name": "stderr",
     "output_type": "stream",
     "text": [
      "/home/wenjin/anaconda3/envs/gnnmp/lib/python3.8/site-packages/tqdm/auto.py:22: TqdmWarning: IProgress not found. Please update jupyter and ipywidgets. See https://ipywidgets.readthedocs.io/en/stable/user_install.html\n",
      "  from .autonotebook import tqdm as notebook_tqdm\n",
      "pybullet build time: May 20 2022 19:44:17\n"
     ]
    }
   ],
   "source": [
    "from eval_gnn import eval_gnn\n",
    "from str2env import str2env\n",
    "import numpy as np"
   ]
  },
  {
   "cell_type": "markdown",
   "id": "4927f646-9be8-4b59-99b3-a044aeaf2902",
   "metadata": {},
   "source": [
    "## Test on New Environment"
   ]
  },
  {
   "cell_type": "code",
   "execution_count": 2,
   "id": "56902222-0999-415a-9976-72ad8442defa",
   "metadata": {},
   "outputs": [
    {
     "name": "stdout",
     "output_type": "stream",
     "text": [
      "argv[0]=--background_color_red=1.0\n",
      "argv[1]=--background_color_green=1.0\n",
      "argv[2]=--background_color_blue=1.0\n",
      "startThreads creating 1 threads.\n",
      "starting thread 0\n",
      "started thread 0 \n",
      "argc=5\n",
      "argv[0] = --unused\n",
      "argv[1] = --background_color_red=1.0\n",
      "argv[2] = --background_color_green=1.0\n",
      "argv[3] = --background_color_blue=1.0\n",
      "argv[4] = --start_demo_name=Physics Server\n",
      "ExampleBrowserThreadFunc started\n",
      "X11 functions dynamically loaded using dlopen/dlsym OK!\n",
      "X11 functions dynamically loaded using dlopen/dlsym OK!\n",
      "Creating context\n",
      "Created GL 3.3 context\n",
      "Direct GLX rendering context obtained\n",
      "Making context current\n",
      "GL_VENDOR=NVIDIA Corporation\n",
      "GL_RENDERER=NVIDIA GeForce RTX 3090/PCIe/SSE2\n",
      "GL_VERSION=3.3.0 NVIDIA 520.61.05\n",
      "GL_SHADING_LANGUAGE_VERSION=3.30 NVIDIA via Cg compiler\n",
      "pthread_getconcurrency()=0\n",
      "Version = 3.3.0 NVIDIA 520.61.05\n",
      "Vendor = NVIDIA Corporation\n",
      "Renderer = NVIDIA GeForce RTX 3090/PCIe/SSE2\n",
      "b3Printf: Selected demo: Physics Server\n",
      "startThreads creating 1 threads.\n",
      "starting thread 0\n",
      "started thread 0 \n",
      "MotionThreadFunc thread started\n",
      "ven = NVIDIA Corporation\n",
      "ven = NVIDIA Corporation\n"
     ]
    }
   ],
   "source": [
    "from tqdm import tqdm\n",
    "from config import set_random_seed\n",
    "from str2name import str2name\n",
    "import torch\n",
    "from eval_gnn import explore\n",
    "\n",
    "env, indexes = str2env('snake7', GUI=True) \n",
    "bs = 500  # only sample 100 points\n",
    "\n",
    "# choose a complex sample\n",
    "min_diff = 15\n",
    "i = 0\n",
    "env.init_new_problem(i)\n",
    "env.set_random_init_goal()"
   ]
  },
  {
   "cell_type": "code",
   "execution_count": 3,
   "id": "98a86551",
   "metadata": {},
   "outputs": [
    {
     "name": "stdout",
     "output_type": "stream",
     "text": [
      "[-5.37631692  4.03598133  2.20476433 -1.94377141  1.14845004 -0.70675057\n",
      " -0.13610279]\n",
      "[ 2.72586083 -3.31551833 -2.20507966  1.96634906  1.82758774  0.24655899\n",
      " -0.74137316]\n"
     ]
    }
   ],
   "source": [
    "problem = env.get_problem()\n",
    "print(problem[\"init_state\"])\n",
    "print(problem[\"goal_state\"])"
   ]
  },
  {
   "cell_type": "code",
   "execution_count": 4,
   "id": "ccefd5ae",
   "metadata": {},
   "outputs": [],
   "source": [
    "set_random_seed(1234)\n",
    "bs = 500\n",
    "_, model, model_path, model_s, model_s_path = str2name(str(env))\n",
    "result = explore(env, model, model_s, smooth=True, smoother='none', batch=bs, t_max=bs, k=10) "
   ]
  },
  {
   "cell_type": "code",
   "execution_count": 8,
   "id": "dc566b02-f162-4104-afdc-9c5cb2ca1fee",
   "metadata": {},
   "outputs": [
    {
     "name": "stdout",
     "output_type": "stream",
     "text": [
      "True\n"
     ]
    }
   ],
   "source": [
    "print(result[\"success\"])"
   ]
  },
  {
   "cell_type": "code",
   "execution_count": 9,
   "id": "f667403c",
   "metadata": {},
   "outputs": [
    {
     "name": "stdout",
     "output_type": "stream",
     "text": [
      "[array([-5.376317  ,  4.035981  ,  2.2047644 , -1.9437714 ,  1.14845   ,\n",
      "       -0.7067506 , -0.13610278], dtype=float32), array([-6.742758  ,  6.208479  ,  1.1872022 , -0.80104095,  0.5046928 ,\n",
      "       -0.7977856 ,  0.4993061 ], dtype=float32), array([-6.4644027 ,  7.3091826 ,  0.90210646, -0.9307567 ,  0.68890584,\n",
      "       -2.0972164 ,  1.3443081 ], dtype=float32), array([-5.207205  ,  7.087253  ,  0.51528794, -0.16382241,  0.83303404,\n",
      "        0.55215174,  2.2680168 ], dtype=float32), array([-4.0882554,  7.5971994, -1.286064 ,  1.161478 ,  1.9093461,\n",
      "        1.6925251,  1.5256124], dtype=float32), array([-4.4726715e+00,  6.9042807e+00, -5.6063461e-01, -8.3747369e-01,\n",
      "       -6.0060504e-03,  1.5360352e-01,  4.5458755e-01], dtype=float32), array([-3.6875978 ,  7.2058854 , -0.09319986,  0.97234976, -0.8378326 ,\n",
      "       -1.8621399 , -1.395909  ], dtype=float32), array([-3.5643866 ,  7.1004443 , -0.4934693 ,  0.89973044,  0.10367618,\n",
      "        0.07720757,  0.3336256 ], dtype=float32), array([-4.521198  ,  6.8565025 , -0.8114525 ,  0.75543195,  0.7171019 ,\n",
      "       -1.5684158 ,  0.8600648 ], dtype=float32), array([-1.3259969 ,  6.800241  ,  0.79265225,  0.6347027 ,  2.018387  ,\n",
      "       -1.6729901 ,  2.1695235 ], dtype=float32), array([-0.50489974,  7.977253  , -0.55228066,  0.48459512,  0.9099411 ,\n",
      "        1.4709607 ,  1.4485254 ], dtype=float32), array([ 0.4392674 ,  7.971112  ,  1.3214011 , -0.893981  , -0.7660731 ,\n",
      "        0.46061757,  2.7233548 ], dtype=float32), array([-1.1969306 ,  6.933234  ,  0.30314496, -0.3638596 , -0.36986488,\n",
      "       -0.35510245,  2.3456988 ], dtype=float32), array([-1.0699699 ,  7.4985485 , -0.18292496,  0.03302921, -1.8212966 ,\n",
      "       -1.9013329 , -0.67350006], dtype=float32), array([ 0.9741703,  7.4235253,  0.6611046, -0.6150645, -1.56009  ,\n",
      "       -1.8965576, -2.1134248], dtype=float32), array([ 0.8029987 ,  6.646389  , -1.7963375 , -1.9468092 , -0.41338634,\n",
      "        0.9137859 ,  0.06779536], dtype=float32), array([-0.21291363,  5.5027337 , -1.3854572 , -0.7893067 , -1.5751595 ,\n",
      "       -1.9122351 ,  1.6014382 ], dtype=float32), array([ 0.8600277 ,  5.1417956 , -1.150001  , -0.43502337,  0.887315  ,\n",
      "       -2.1875234 , -1.0260679 ], dtype=float32), array([ 0.34113818,  4.3479714 , -0.05514242, -1.9728639 ,  0.01852888,\n",
      "       -1.3181447 ,  1.5801976 ], dtype=float32), array([-2.3953173 ,  4.3150215 , -0.4367668 , -1.0869904 , -0.40667415,\n",
      "        0.4091842 ,  1.1688652 ], dtype=float32), array([-1.8909856 ,  3.706129  , -1.4347981 , -1.349643  ,  1.4180758 ,\n",
      "        0.60092705,  0.33303374], dtype=float32), array([-2.9138043,  1.3704613, -0.8832939, -1.8856176,  2.0323544,\n",
      "       -1.0798987,  1.7181122], dtype=float32), array([-0.11916024,  2.5412776 ,  0.5630867 , -1.5242307 ,  0.4833102 ,\n",
      "       -1.7501864 ,  1.7355701 ], dtype=float32), array([-0.02711723,  1.7754363 , -1.2557106 , -0.24028474, -0.02764739,\n",
      "        0.53821224,  2.322504  ], dtype=float32), array([-2.9675438,  1.6525848,  0.4804572, -1.1463212, -0.1216602,\n",
      "        1.8241303,  2.4729872], dtype=float32), array([-2.6386256,  2.6155818,  2.28184  , -0.7299363, -2.3397536,\n",
      "       -0.3124059,  1.6880289], dtype=float32), array([-3.407251  ,  2.329713  ,  1.7290792 , -0.00652306,  0.3967094 ,\n",
      "       -0.665581  ,  2.5161855 ], dtype=float32), array([ 0.26861084,  2.3038325 ,  1.3570887 ,  0.5911041 , -1.1378353 ,\n",
      "       -1.6890826 ,  2.8989725 ], dtype=float32), array([ 1.2494154 ,  2.1710265 ,  0.3463756 ,  1.0147675 , -2.39747   ,\n",
      "       -0.20692812, -0.18879567], dtype=float32), array([ 2.802178  ,  2.3043787 , -1.5096606 ,  2.0158894 , -0.31694883,\n",
      "        0.7238013 ,  1.0645744 ], dtype=float32), array([ 2.9659266,  2.605468 , -0.3016874, -0.2213173,  1.993582 ,\n",
      "        1.2660416, -0.6764311], dtype=float32), array([ 5.399138  ,  2.467173  , -1.1507591 ,  1.5926604 ,  0.71570534,\n",
      "       -0.20565629, -0.37365904], dtype=float32), array([ 4.739396  ,  2.3989406 ,  0.12102581,  1.0474671 ,  0.14153105,\n",
      "       -1.2450148 ,  2.164843  ], dtype=float32), array([ 6.5444026 ,  1.4545897 ,  1.2200267 , -1.0974419 , -1.7817484 ,\n",
      "       -0.89849734,  3.0518346 ], dtype=float32), array([ 6.0849986 ,  2.3885193 ,  0.8120574 ,  0.05380137, -0.47151566,\n",
      "        1.0447513 ,  1.4242599 ], dtype=float32), array([ 8.034902  ,  2.115244  ,  1.6339347 , -1.699295  , -0.36708474,\n",
      "       -0.18773535,  0.62501067], dtype=float32), array([ 5.832275  ,  1.953503  ,  1.391899  , -0.9028115 ,  2.0978022 ,\n",
      "       -0.38642636, -0.02981781], dtype=float32), array([ 5.1226025 ,  1.0886121 ,  1.0085778 ,  0.1371133 ,  1.8582278 ,\n",
      "       -1.5604658 ,  0.19152094], dtype=float32), array([ 6.7831717 , -1.8939627 ,  1.7965807 ,  0.61447763,  1.9137897 ,\n",
      "       -1.5761281 ,  2.64809   ], dtype=float32), array([ 3.9235733 , -2.1383862 ,  0.30223304,  1.1163784 ,  1.8215019 ,\n",
      "       -0.2381238 ,  1.829957  ], dtype=float32), array([ 2.7258608 , -3.3155184 , -2.2050796 ,  1.966349  ,  1.8275877 ,\n",
      "        0.24655898, -0.7413732 ], dtype=float32)]\n"
     ]
    }
   ],
   "source": [
    "print(result['path'])"
   ]
  },
  {
   "cell_type": "code",
   "execution_count": 10,
   "id": "4de3ad60",
   "metadata": {},
   "outputs": [],
   "source": [
    "env.plot_v2(result['path'])"
   ]
  },
  {
   "cell_type": "code",
   "execution_count": 7,
   "id": "6cc75eda",
   "metadata": {},
   "outputs": [
    {
     "data": {
      "text/plain": [
       "111"
      ]
     },
     "execution_count": 7,
     "metadata": {},
     "output_type": "execute_result"
    }
   ],
   "source": [
    "env.reset(env.get_problem()[\"map\"])"
   ]
  },
  {
   "cell_type": "code",
   "execution_count": 8,
   "id": "3887a869",
   "metadata": {},
   "outputs": [
    {
     "name": "stdout",
     "output_type": "stream",
     "text": [
      "[array([-0.10243738, -5.6820793 , -1.9212009 , -0.5218504 , -1.4797359 ,\n",
      "        0.8944094 ,  0.0174504 ], dtype=float32), array([-0.62173045, -7.4983506 , -2.518218  , -0.5365558 ,  0.84959304,\n",
      "       -0.66126305, -0.7546058 ], dtype=float32)]\n"
     ]
    }
   ],
   "source": [
    "print(result[\"path\"])"
   ]
  },
  {
   "cell_type": "code",
   "execution_count": 12,
   "id": "37c43646",
   "metadata": {},
   "outputs": [
    {
     "name": "stdout",
     "output_type": "stream",
     "text": [
      "[ 2.7258608 -3.3155184]\n",
      "[-5.376317  4.035981]\n",
      "41\n"
     ]
    },
    {
     "ename": "",
     "evalue": "",
     "output_type": "error",
     "traceback": [
      "\u001b[1;31mThe Kernel crashed while executing code in the the current cell or a previous cell. Please review the code in the cell(s) to identify a possible cause of the failure. Click <a href='https://aka.ms/vscodeJupyterKernelCrash'>here</a> for more info. View Jupyter <a href='command:jupyter.viewOutput'>log</a> for further details."
     ]
    }
   ],
   "source": [
    "path = result['path']\n",
    "print(path[-1][:2])\n",
    "print(path[0][:2])\n",
    "print(len(path))"
   ]
  },
  {
   "cell_type": "code",
   "execution_count": 10,
   "id": "d917d7a1",
   "metadata": {},
   "outputs": [
    {
     "data": {
      "text/plain": [
       "True"
      ]
     },
     "execution_count": 10,
     "metadata": {},
     "output_type": "execute_result"
    }
   ],
   "source": [
    "new_snake = env.create_snake(phantom=False)\n",
    "env.set_config(path[0], snakeId=new_snake)"
   ]
  },
  {
   "cell_type": "code",
   "execution_count": 11,
   "id": "6b077c61",
   "metadata": {},
   "outputs": [
    {
     "name": "stdout",
     "output_type": "stream",
     "text": [
      "9\n"
     ]
    }
   ],
   "source": [
    "import pybullet as p\n",
    "print(p.getNumJoints(env.snakeId))"
   ]
  },
  {
   "cell_type": "code",
   "execution_count": 12,
   "id": "e4802b60",
   "metadata": {},
   "outputs": [
    {
     "name": "stdout",
     "output_type": "stream",
     "text": [
      "[-0.62173045 -7.4983506  -2.518218   -0.5365558   0.84959304 -0.66126305\n",
      " -0.7546058 ]\n"
     ]
    }
   ],
   "source": [
    "print(path[-1])"
   ]
  },
  {
   "cell_type": "code",
   "execution_count": 13,
   "id": "42d0cd42",
   "metadata": {},
   "outputs": [
    {
     "data": {
      "text/plain": [
       "False"
      ]
     },
     "execution_count": 13,
     "metadata": {},
     "output_type": "execute_result"
    }
   ],
   "source": [
    "import pybullet as p\n",
    "\n",
    "# new_snake = env.create_snake(phantom=False)\n",
    "env.set_config(path[-1])\n",
    "\n"
   ]
  },
  {
   "cell_type": "code",
   "execution_count": 14,
   "id": "15c24d96",
   "metadata": {},
   "outputs": [],
   "source": [
    "imgs = env.plot(env.get_problem()[\"map\"], result['path'], make_gif=True)"
   ]
  },
  {
   "cell_type": "code",
   "execution_count": 15,
   "id": "62f49c04",
   "metadata": {},
   "outputs": [
    {
     "name": "stdout",
     "output_type": "stream",
     "text": [
      "7\n",
      "<class 'numpy.ndarray'>\n",
      "(900, 1100, 4)\n"
     ]
    }
   ],
   "source": [
    "print(len(imgs))\n",
    "print(type(imgs[0]))\n",
    "print(np.shape(imgs[0]))"
   ]
  }
 ],
 "metadata": {
  "kernelspec": {
   "display_name": "Python 3.8.13 ('gnnmp')",
   "language": "python",
   "name": "python3"
  },
  "language_info": {
   "codemirror_mode": {
    "name": "ipython",
    "version": 3
   },
   "file_extension": ".py",
   "mimetype": "text/x-python",
   "name": "python",
   "nbconvert_exporter": "python",
   "pygments_lexer": "ipython3",
   "version": "3.8.13"
  },
  "vscode": {
   "interpreter": {
    "hash": "53dfe34765113b3b2409c8f4a9b63bf9153a9ae9765388eedf6846bc592613e5"
   }
  }
 },
 "nbformat": 4,
 "nbformat_minor": 5
}
